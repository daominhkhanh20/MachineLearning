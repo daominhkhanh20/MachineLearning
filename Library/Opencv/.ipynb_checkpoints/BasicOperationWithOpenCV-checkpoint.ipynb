{
 "cells": [
  {
   "cell_type": "code",
   "execution_count": 1,
   "metadata": {},
   "outputs": [],
   "source": [
    "import cv2\n",
    "import numpy as np\n",
    "from matplotlib import pyplot as plt"
   ]
  },
  {
   "cell_type": "code",
   "execution_count": null,
   "metadata": {},
   "outputs": [],
   "source": [
    "image=cv2.imread('girl.png',1)\n",
    "# cv2.imshow('original',image)\n",
    "# cv2.waitKey(2000)\n",
    "\n",
    "# gray_image=cv2.cvtColor(image,cv2.COLOR_BGR2GRAY)\n",
    "# cv2.imwrite('girl_gray.png',gray_image)\n",
    "# cv2.imshow('Gray image',gray_image)\n",
    "# cv2.waitKey(0)\n",
    "# cv2.destroyAllWindows()"
   ]
  },
  {
   "cell_type": "markdown",
   "metadata": {},
   "source": [
    "# Reshape image "
   ]
  },
  {
   "cell_type": "code",
   "execution_count": null,
   "metadata": {},
   "outputs": [],
   "source": [
    "half=cv2.resize(image,(0,1),fx=0.1,fy=0.1)\n",
    "bigger=cv2.resize(image,(300,400))\n",
    "strech_near=cv2.resize(image,(500,400),interpolation=INTER_NEAREST)\n",
    "list_image=[image,half,bigger,strech_near]\n",
    "titles=['original','half','bigger','Interpolation nearest']\n",
    "\n",
    "for i in range(len(title)):\n",
    "    plt.subplots(2,2,i+1)\n",
    "    plt.title(titles[i])\n",
    "    plt.imshow(list_image[i])"
   ]
  },
  {
   "cell_type": "code",
   "execution_count": null,
   "metadata": {},
   "outputs": [],
   "source": [
    "plt.show()"
   ]
  },
  {
   "cell_type": "code",
   "execution_count": null,
   "metadata": {},
   "outputs": [],
   "source": []
  }
 ],
 "metadata": {
  "kernelspec": {
   "display_name": "Python 3",
   "language": "python",
   "name": "python3"
  },
  "language_info": {
   "codemirror_mode": {
    "name": "ipython",
    "version": 3
   },
   "file_extension": ".py",
   "mimetype": "text/x-python",
   "name": "python",
   "nbconvert_exporter": "python",
   "pygments_lexer": "ipython3",
   "version": "3.7.6"
  }
 },
 "nbformat": 4,
 "nbformat_minor": 4
}
