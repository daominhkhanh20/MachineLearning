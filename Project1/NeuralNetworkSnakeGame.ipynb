{
  "nbformat": 4,
  "nbformat_minor": 0,
  "metadata": {
    "colab": {
      "name": "NeuralNetworkSnakeGame.ipynb",
      "provenance": [],
      "collapsed_sections": []
    },
    "kernelspec": {
      "name": "python3",
      "display_name": "Python 3"
    },
    "accelerator": "GPU"
  },
  "cells": [
    {
      "cell_type": "code",
      "metadata": {
        "id": "X_BFGgTwG_AR"
      },
      "source": [
        "# from google.colab import drive \n",
        "# drive.mount('/content/drive')"
      ],
      "execution_count": 76,
      "outputs": []
    },
    {
      "cell_type": "code",
      "metadata": {
        "id": "lNVS8G1NbHdy"
      },
      "source": [
        "import pandas as pd\n",
        "import numpy as np\n",
        "import keras\n",
        "from matplotlib import pyplot as plt\n",
        "from keras.utils import to_categorical\n",
        "from keras.models import Sequential\n",
        "from keras.layers import Dense\n",
        "from sklearn.model_selection import train_test_split\n",
        "from keras.utils import to_categorical \n",
        "from keras.callbacks import EarlyStopping \n",
        "from sklearn.model_selection import train_test_split"
      ],
      "execution_count": 77,
      "outputs": []
    },
    {
      "cell_type": "code",
      "metadata": {
        "id": "8x2VG2MS2HtY"
      },
      "source": [
        "from numpy import genfromtxt\n",
        "data_train= genfromtxt('data_train.csv', delimiter=',')"
      ],
      "execution_count": 78,
      "outputs": []
    },
    {
      "cell_type": "code",
      "metadata": {
        "id": "idlqZfqT34pn",
        "colab": {
          "base_uri": "https://localhost:8080/"
        },
        "outputId": "841a6453-4411-44d5-bd02-081e6a56e998"
      },
      "source": [
        "data=data_train[:,:-1]\n",
        "print(data.shape)"
      ],
      "execution_count": 79,
      "outputs": [
        {
          "output_type": "stream",
          "text": [
            "(21370, 5)\n"
          ],
          "name": "stdout"
        }
      ]
    },
    {
      "cell_type": "code",
      "metadata": {
        "id": "7U2vg3Qd3vYj",
        "colab": {
          "base_uri": "https://localhost:8080/"
        },
        "outputId": "6799a68e-f20f-4e43-983d-c8805e98aa5f"
      },
      "source": [
        "labels=data_train[:,-1]\n",
        "labels=labels+1\n",
        "print(type(labels))"
      ],
      "execution_count": 80,
      "outputs": [
        {
          "output_type": "stream",
          "text": [
            "<class 'numpy.ndarray'>\n"
          ],
          "name": "stdout"
        }
      ]
    },
    {
      "cell_type": "code",
      "metadata": {
        "id": "lbMDYOu2FWv_"
      },
      "source": [
        "x_train,x_test,y_train,y_test=train_test_split(data,labels,test_size=0.2)"
      ],
      "execution_count": 81,
      "outputs": []
    },
    {
      "cell_type": "code",
      "metadata": {
        "id": "plM14YGYUA8z"
      },
      "source": [
        "y_train=to_categorical(y_train,3)"
      ],
      "execution_count": 82,
      "outputs": []
    },
    {
      "cell_type": "code",
      "metadata": {
        "id": "L35jpzbTDdjG"
      },
      "source": [
        "numberLayer=4"
      ],
      "execution_count": 83,
      "outputs": []
    },
    {
      "cell_type": "code",
      "metadata": {
        "id": "4HGmEVBpOrvj"
      },
      "source": [
        "model=Sequential()\r\n",
        "model.add(Dense(9,input_dim=5,activation='relu'))\r\n",
        "model.add(Dense(units=15, activation='relu'))\r\n",
        "model.add(Dense(units=30, activation='relu'))\r\n",
        "model.add(Dense(units=20, activation='relu'))\r\n",
        "model.add(Dense(units=10, activation='relu'))\r\n",
        "model.add(Dense(3,activation='softmax'))\r\n",
        "model.compile(loss='categorical_crossentropy',\r\n",
        "              optimizer='adam',\r\n",
        "              metrics=['accuracy'])"
      ],
      "execution_count": 84,
      "outputs": []
    },
    {
      "cell_type": "code",
      "metadata": {
        "id": "I16lWmuqkfsQ",
        "colab": {
          "base_uri": "https://localhost:8080/"
        },
        "outputId": "8bfd57e5-6aeb-4f1d-dd29-e533600580bd"
      },
      "source": [
        "n_epochs=1000\n",
        "history=model.fit(x_train,y_train,batch_size=256,epochs=n_epochs,verbose=1,validation_split=0.25,callbacks=[EarlyStopping(monitor='val_loss',min_delta=0.000000001)])"
      ],
      "execution_count": 85,
      "outputs": [
        {
          "output_type": "stream",
          "text": [
            "Epoch 1/1000\n",
            "51/51 [==============================] - 1s 7ms/step - loss: 1.0772 - accuracy: 0.4993 - val_loss: 0.9360 - val_accuracy: 0.5042\n",
            "Epoch 2/1000\n",
            "51/51 [==============================] - 0s 4ms/step - loss: 0.8637 - accuracy: 0.5748 - val_loss: 0.6895 - val_accuracy: 0.7106\n",
            "Epoch 3/1000\n",
            "51/51 [==============================] - 0s 4ms/step - loss: 0.6168 - accuracy: 0.7267 - val_loss: 0.5237 - val_accuracy: 0.7188\n",
            "Epoch 4/1000\n",
            "51/51 [==============================] - 0s 4ms/step - loss: 0.5081 - accuracy: 0.7170 - val_loss: 0.4912 - val_accuracy: 0.7223\n",
            "Epoch 5/1000\n",
            "51/51 [==============================] - 0s 4ms/step - loss: 0.4704 - accuracy: 0.7311 - val_loss: 0.4740 - val_accuracy: 0.7277\n",
            "Epoch 6/1000\n",
            "51/51 [==============================] - 0s 4ms/step - loss: 0.4520 - accuracy: 0.7435 - val_loss: 0.4630 - val_accuracy: 0.7354\n",
            "Epoch 7/1000\n",
            "51/51 [==============================] - 0s 4ms/step - loss: 0.4495 - accuracy: 0.7408 - val_loss: 0.4551 - val_accuracy: 0.7323\n",
            "Epoch 8/1000\n",
            "51/51 [==============================] - 0s 4ms/step - loss: 0.4403 - accuracy: 0.7445 - val_loss: 0.4488 - val_accuracy: 0.7375\n",
            "Epoch 9/1000\n",
            "51/51 [==============================] - 0s 4ms/step - loss: 0.4348 - accuracy: 0.7365 - val_loss: 0.4486 - val_accuracy: 0.7408\n",
            "Epoch 10/1000\n",
            "51/51 [==============================] - 0s 4ms/step - loss: 0.4226 - accuracy: 0.7466 - val_loss: 0.4382 - val_accuracy: 0.7337\n",
            "Epoch 11/1000\n",
            "51/51 [==============================] - 0s 4ms/step - loss: 0.4181 - accuracy: 0.7455 - val_loss: 0.4331 - val_accuracy: 0.7532\n",
            "Epoch 12/1000\n",
            "51/51 [==============================] - 0s 4ms/step - loss: 0.4120 - accuracy: 0.7544 - val_loss: 0.4300 - val_accuracy: 0.7564\n",
            "Epoch 13/1000\n",
            "51/51 [==============================] - 0s 4ms/step - loss: 0.4168 - accuracy: 0.7497 - val_loss: 0.4258 - val_accuracy: 0.7623\n",
            "Epoch 14/1000\n",
            "51/51 [==============================] - 0s 4ms/step - loss: 0.4066 - accuracy: 0.7637 - val_loss: 0.4225 - val_accuracy: 0.7787\n",
            "Epoch 15/1000\n",
            "51/51 [==============================] - 0s 4ms/step - loss: 0.4079 - accuracy: 0.7562 - val_loss: 0.4274 - val_accuracy: 0.7747\n"
          ],
          "name": "stdout"
        }
      ]
    },
    {
      "cell_type": "markdown",
      "metadata": {
        "id": "AwOiLcM3KNtB"
      },
      "source": [
        ""
      ]
    },
    {
      "cell_type": "code",
      "metadata": {
        "id": "0D3uS4ennYgm",
        "colab": {
          "base_uri": "https://localhost:8080/"
        },
        "outputId": "a8170039-a0f2-4abd-b50c-926da43807f4"
      },
      "source": [
        "model.summary()"
      ],
      "execution_count": 86,
      "outputs": [
        {
          "output_type": "stream",
          "text": [
            "Model: \"sequential_4\"\n",
            "_________________________________________________________________\n",
            "Layer (type)                 Output Shape              Param #   \n",
            "=================================================================\n",
            "dense_21 (Dense)             (None, 9)                 54        \n",
            "_________________________________________________________________\n",
            "dense_22 (Dense)             (None, 15)                150       \n",
            "_________________________________________________________________\n",
            "dense_23 (Dense)             (None, 30)                480       \n",
            "_________________________________________________________________\n",
            "dense_24 (Dense)             (None, 20)                620       \n",
            "_________________________________________________________________\n",
            "dense_25 (Dense)             (None, 10)                210       \n",
            "_________________________________________________________________\n",
            "dense_26 (Dense)             (None, 3)                 33        \n",
            "=================================================================\n",
            "Total params: 1,547\n",
            "Trainable params: 1,547\n",
            "Non-trainable params: 0\n",
            "_________________________________________________________________\n"
          ],
          "name": "stdout"
        }
      ]
    },
    {
      "cell_type": "code",
      "metadata": {
        "id": "1CH0k32L7W2B"
      },
      "source": [
        "# model.save('Model.h5')"
      ],
      "execution_count": 87,
      "outputs": []
    },
    {
      "cell_type": "code",
      "metadata": {
        "id": "ani-rXv8kotK"
      },
      "source": [
        "x_graph=np.arange(len(history.history['loss']))"
      ],
      "execution_count": 88,
      "outputs": []
    },
    {
      "cell_type": "code",
      "metadata": {
        "id": "392jF1qKLjUR",
        "colab": {
          "base_uri": "https://localhost:8080/"
        },
        "outputId": "524c7699-5afa-4ceb-894f-c2df780f4bc7"
      },
      "source": [
        "prediction=model.predict(x_test)\r\n",
        "y_predict=np.argmax(prediction,axis=1)\r\n",
        "print(y_predict.shape)\r\n",
        "from sklearn.metrics import accuracy_score\r\n",
        "score=accuracy_score(y_test,y_predict)"
      ],
      "execution_count": 89,
      "outputs": [
        {
          "output_type": "stream",
          "text": [
            "(4274,)\n"
          ],
          "name": "stdout"
        }
      ]
    },
    {
      "cell_type": "code",
      "metadata": {
        "id": "ozHqr3rQCk74"
      },
      "source": [
        "parameter=['accuracy','val_accuracy','loss','val_loss']\r\n",
        "image_name=[\"accuracy for {} layers\".format(numberLayer),\"loss for {} layers\".format(numberLayer)]\r\n",
        "name=['Train Accuracy','Validation Accuracy','Train Loss','Validation loss']\r\n"
      ],
      "execution_count": 90,
      "outputs": []
    },
    {
      "cell_type": "code",
      "metadata": {
        "id": "9O1QoDi4I2Ho",
        "colab": {
          "base_uri": "https://localhost:8080/",
          "height": 311
        },
        "outputId": "dc676531-c04a-4352-91fa-920515690bab"
      },
      "source": [
        "fig=plt.subplots(figsize=(10,5))\r\n",
        "\r\n",
        "for i in range(2):\r\n",
        "  plt.subplot(1,2,i+1)\r\n",
        "  plt.plot(x_graph,history.history[parameter[2*i]],label=name[2*i])\r\n",
        "  plt.plot(x_graph,history.history[parameter[2*i+1]],label=name[2*i+1])\r\n",
        "  plt.legend()\r\n",
        "\r\n",
        "plt.title(\"Accuracy for data test:{}\".format(score),fontsize=16)\r\n",
        "plt.savefig(\"{} layers\".format(numberLayer))\r\n",
        "plt.tight_layout(pad=4.0)\r\n",
        "plt.show()"
      ],
      "execution_count": 91,
      "outputs": [
        {
          "output_type": "display_data",
          "data": {
            "image/png": "[encoded data removed]",
            "text/plain": [
              "<Figure size 720x360 with 2 Axes>"
            ]
          },
          "metadata": {
            "tags": [],
            "needs_background": "light"
          }
        }
      ]
    }
  ]
}