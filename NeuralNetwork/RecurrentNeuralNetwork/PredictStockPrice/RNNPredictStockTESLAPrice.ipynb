{
  "nbformat": 4,
  "nbformat_minor": 0,
  "metadata": {
    "colab": {
      "name": "RNNPredictStockProce.ipynb",
      "provenance": [],
      "collapsed_sections": []
    },
    "kernelspec": {
      "name": "python3",
      "display_name": "Python 3"
    },
    "accelerator": "GPU"
  },
  "cells": [
    {
      "cell_type": "code",
      "metadata": {
        "id": "OR-_myT6Uo9_"
      },
      "source": [
        "import math \n",
        "from matplotlib import pyplot as plt\n",
        "import pandas as pd\n",
        "import numpy as np\n",
        "from keras.models import Sequential\n",
        "from keras.layers import *\n",
        "from sklearn.preprocessing import MinMaxScaler\n",
        "from sklearn.metrics import mean_squared_error\n",
        "from sklearn.metrics import mean_absolute_error\n",
        "from sklearn.model_selection import train_test_split\n",
        "from keras.callbacks import EarlyStopping"
      ],
      "execution_count": 146,
      "outputs": []
    },
    {
      "cell_type": "code",
      "metadata": {
        "id": "eHpaCq6kVcK2"
      },
      "source": [
        "data=pd.read_csv(\"TSLA.csv\")"
      ],
      "execution_count": 147,
      "outputs": []
    },
    {
      "cell_type": "code",
      "metadata": {
        "id": "6sze1NLsVgbE",
        "outputId": "ffb384ef-f799-4a87-f4ad-a553506d09e1",
        "colab": {
          "base_uri": "https://localhost:8080/",
          "height": 204
        }
      },
      "source": [
        "data.head(5)"
      ],
      "execution_count": 148,
      "outputs": [
        {
          "output_type": "execute_result",
          "data": {
            "text/html": [
              "<div>\n",
              "<style scoped>\n",
              "    .dataframe tbody tr th:only-of-type {\n",
              "        vertical-align: middle;\n",
              "    }\n",
              "\n",
              "    .dataframe tbody tr th {\n",
              "        vertical-align: top;\n",
              "    }\n",
              "\n",
              "    .dataframe thead th {\n",
              "        text-align: right;\n",
              "    }\n",
              "</style>\n",
              "<table border=\"1\" class=\"dataframe\">\n",
              "  <thead>\n",
              "    <tr style=\"text-align: right;\">\n",
              "      <th></th>\n",
              "      <th>Date</th>\n",
              "      <th>Open</th>\n",
              "      <th>High</th>\n",
              "      <th>Low</th>\n",
              "      <th>Close</th>\n",
              "      <th>Adj Close</th>\n",
              "      <th>Volume</th>\n",
              "    </tr>\n",
              "  </thead>\n",
              "  <tbody>\n",
              "    <tr>\n",
              "      <th>0</th>\n",
              "      <td>2015-07-10</td>\n",
              "      <td>52.444000</td>\n",
              "      <td>52.599998</td>\n",
              "      <td>51.563999</td>\n",
              "      <td>51.830002</td>\n",
              "      <td>51.830002</td>\n",
              "      <td>13054500</td>\n",
              "    </tr>\n",
              "    <tr>\n",
              "      <th>1</th>\n",
              "      <td>2015-07-13</td>\n",
              "      <td>52.450001</td>\n",
              "      <td>52.509998</td>\n",
              "      <td>51.209999</td>\n",
              "      <td>52.431999</td>\n",
              "      <td>52.431999</td>\n",
              "      <td>14801500</td>\n",
              "    </tr>\n",
              "    <tr>\n",
              "      <th>2</th>\n",
              "      <td>2015-07-14</td>\n",
              "      <td>52.419998</td>\n",
              "      <td>53.198002</td>\n",
              "      <td>52.102001</td>\n",
              "      <td>53.130001</td>\n",
              "      <td>53.130001</td>\n",
              "      <td>9538000</td>\n",
              "    </tr>\n",
              "    <tr>\n",
              "      <th>3</th>\n",
              "      <td>2015-07-15</td>\n",
              "      <td>53.348000</td>\n",
              "      <td>53.498001</td>\n",
              "      <td>52.416000</td>\n",
              "      <td>52.627998</td>\n",
              "      <td>52.627998</td>\n",
              "      <td>10108000</td>\n",
              "    </tr>\n",
              "    <tr>\n",
              "      <th>4</th>\n",
              "      <td>2015-07-16</td>\n",
              "      <td>52.844002</td>\n",
              "      <td>53.439999</td>\n",
              "      <td>52.632000</td>\n",
              "      <td>53.335999</td>\n",
              "      <td>53.335999</td>\n",
              "      <td>8080000</td>\n",
              "    </tr>\n",
              "  </tbody>\n",
              "</table>\n",
              "</div>"
            ],
            "text/plain": [
              "         Date       Open       High        Low      Close  Adj Close    Volume\n",
              "0  2015-07-10  52.444000  52.599998  51.563999  51.830002  51.830002  13054500\n",
              "1  2015-07-13  52.450001  52.509998  51.209999  52.431999  52.431999  14801500\n",
              "2  2015-07-14  52.419998  53.198002  52.102001  53.130001  53.130001   9538000\n",
              "3  2015-07-15  53.348000  53.498001  52.416000  52.627998  52.627998  10108000\n",
              "4  2015-07-16  52.844002  53.439999  52.632000  53.335999  53.335999   8080000"
            ]
          },
          "metadata": {
            "tags": []
          },
          "execution_count": 148
        }
      ]
    },
    {
      "cell_type": "markdown",
      "metadata": {
        "id": "_y8NFEQ3V1N0"
      },
      "source": [
        "The target value to be predict is going to be the \"Close\" stock price value"
      ]
    },
    {
      "cell_type": "code",
      "metadata": {
        "id": "E25WrnbQVkWh"
      },
      "source": [
        "training_set=data.iloc[:800,1:2].values\n",
        "test_set=data.iloc[800:,1:2].values"
      ],
      "execution_count": 149,
      "outputs": []
    },
    {
      "cell_type": "code",
      "metadata": {
        "id": "ECRMkfNwWA0B"
      },
      "source": [
        "sc=MinMaxScaler(feature_range=(0,1))\n",
        "training_set_scaled=sc.fit_transform(training_set)"
      ],
      "execution_count": 150,
      "outputs": []
    },
    {
      "cell_type": "code",
      "metadata": {
        "id": "IQXqlFKfW68E"
      },
      "source": [
        "x_train=[]\n",
        "y_train=[]\n",
        "for i in range(60,800):\n",
        "  x_train.append(training_set_scaled[i-60:i,0])\n",
        "  y_train.append(training_set_scaled[i,0])\n",
        "\n",
        "x_train,y_train=np.array(x_train),np.array(y_train)\n",
        "'''\n",
        "We have now reshape the data into the following format(value,time-steps,1 dimentional output)\n",
        "'''\n",
        "x_train=np.reshape(x_train,(x_train.shape[0],x_train.shape[1],1))"
      ],
      "execution_count": 151,
      "outputs": []
    },
    {
      "cell_type": "markdown",
      "metadata": {
        "id": "vBWbudU2YaNe"
      },
      "source": [
        "# Build Model\n",
        "We'll build the LSTM with 50 neurons and 4 hiden layers.Finally, we will assign 1 neuron in the output layer for predicting the normalized stock price.We use the MSE loss function and Adam stochastic gradient optimizer"
      ]
    },
    {
      "cell_type": "code",
      "metadata": {
        "id": "iBSSq-KHW9C0"
      },
      "source": [
        "model=Sequential()\n",
        "\n",
        "model.add(LSTM(units=50,return_sequences=True,\n",
        "               input_shape=(x_train.shape[1],1)))\n",
        "model.add(Dropout(0.2))\n",
        "\n",
        "model.add(LSTM(units=50,return_sequences=True))\n",
        "model.add(Dropout(0.2))\n",
        "\n",
        "model.add(LSTM(units=50,return_sequences=True))\n",
        "model.add(Dropout(0.2))\n",
        "\n",
        "model.add(LSTM(units=50))\n",
        "model.add(Dropout(0.2))\n",
        "\n",
        "model.add(Dense(units=1))"
      ],
      "execution_count": 152,
      "outputs": []
    },
    {
      "cell_type": "code",
      "metadata": {
        "id": "0C3rRm8nZjhh"
      },
      "source": [
        "model.compile(optimizer='adam',loss='mean_squared_error')"
      ],
      "execution_count": 153,
      "outputs": []
    },
    {
      "cell_type": "code",
      "metadata": {
        "id": "5bQKQ0ilmmJA",
        "outputId": "6578985a-e92e-4daf-beb4-9918ad37c83b",
        "colab": {
          "base_uri": "https://localhost:8080/"
        }
      },
      "source": [
        "y_train.shape\n",
        "x_train.shape"
      ],
      "execution_count": 154,
      "outputs": [
        {
          "output_type": "execute_result",
          "data": {
            "text/plain": [
              "(740, 60, 1)"
            ]
          },
          "metadata": {
            "tags": []
          },
          "execution_count": 154
        }
      ]
    },
    {
      "cell_type": "code",
      "metadata": {
        "id": "12gKXgFKZq7J",
        "outputId": "c197d5d4-8ebf-4444-e382-0975b440d0b5",
        "colab": {
          "base_uri": "https://localhost:8080/"
        }
      },
      "source": [
        "model.fit(x_train,y_train,epochs=100,batch_size=32)"
      ],
      "execution_count": 155,
      "outputs": [
        {
          "output_type": "stream",
          "text": [
            "Epoch 1/100\n",
            "24/24 [==============================] - 1s 54ms/step - loss: 0.0574\n",
            "Epoch 2/100\n",
            "24/24 [==============================] - 1s 54ms/step - loss: 0.0153\n",
            "Epoch 3/100\n",
            "24/24 [==============================] - 1s 54ms/step - loss: 0.0123\n",
            "Epoch 4/100\n",
            "24/24 [==============================] - 1s 54ms/step - loss: 0.0155\n",
            "Epoch 5/100\n",
            "24/24 [==============================] - 1s 53ms/step - loss: 0.0144\n",
            "Epoch 6/100\n",
            "24/24 [==============================] - 1s 55ms/step - loss: 0.0132\n",
            "Epoch 7/100\n",
            "24/24 [==============================] - 1s 54ms/step - loss: 0.0108\n",
            "Epoch 8/100\n",
            "24/24 [==============================] - 1s 54ms/step - loss: 0.0105\n",
            "Epoch 9/100\n",
            "24/24 [==============================] - 1s 54ms/step - loss: 0.0116\n",
            "Epoch 10/100\n",
            "24/24 [==============================] - 1s 54ms/step - loss: 0.0110\n",
            "Epoch 11/100\n",
            "24/24 [==============================] - 1s 53ms/step - loss: 0.0111\n",
            "Epoch 12/100\n",
            "24/24 [==============================] - 1s 53ms/step - loss: 0.0093\n",
            "Epoch 13/100\n",
            "24/24 [==============================] - 1s 53ms/step - loss: 0.0101\n",
            "Epoch 14/100\n",
            "24/24 [==============================] - 1s 53ms/step - loss: 0.0094\n",
            "Epoch 15/100\n",
            "24/24 [==============================] - 1s 53ms/step - loss: 0.0086\n",
            "Epoch 16/100\n",
            "24/24 [==============================] - 1s 53ms/step - loss: 0.0093\n",
            "Epoch 17/100\n",
            "24/24 [==============================] - 1s 54ms/step - loss: 0.0081\n",
            "Epoch 18/100\n",
            "24/24 [==============================] - 1s 53ms/step - loss: 0.0095\n",
            "Epoch 19/100\n",
            "24/24 [==============================] - 1s 54ms/step - loss: 0.0076\n",
            "Epoch 20/100\n",
            "24/24 [==============================] - 1s 54ms/step - loss: 0.0078\n",
            "Epoch 21/100\n",
            "24/24 [==============================] - 1s 55ms/step - loss: 0.0074\n",
            "Epoch 22/100\n",
            "24/24 [==============================] - 1s 54ms/step - loss: 0.0076\n",
            "Epoch 23/100\n",
            "24/24 [==============================] - 1s 53ms/step - loss: 0.0069\n",
            "Epoch 24/100\n",
            "24/24 [==============================] - 1s 53ms/step - loss: 0.0077\n",
            "Epoch 25/100\n",
            "24/24 [==============================] - 1s 54ms/step - loss: 0.0085\n",
            "Epoch 26/100\n",
            "24/24 [==============================] - 1s 55ms/step - loss: 0.0063\n",
            "Epoch 27/100\n",
            "24/24 [==============================] - 1s 54ms/step - loss: 0.0065\n",
            "Epoch 28/100\n",
            "24/24 [==============================] - 1s 55ms/step - loss: 0.0076\n",
            "Epoch 29/100\n",
            "24/24 [==============================] - 1s 53ms/step - loss: 0.0059\n",
            "Epoch 30/100\n",
            "24/24 [==============================] - 1s 53ms/step - loss: 0.0063\n",
            "Epoch 31/100\n",
            "24/24 [==============================] - 1s 54ms/step - loss: 0.0056\n",
            "Epoch 32/100\n",
            "24/24 [==============================] - 1s 53ms/step - loss: 0.0061\n",
            "Epoch 33/100\n",
            "24/24 [==============================] - 1s 53ms/step - loss: 0.0058\n",
            "Epoch 34/100\n",
            "24/24 [==============================] - 1s 53ms/step - loss: 0.0060\n",
            "Epoch 35/100\n",
            "24/24 [==============================] - 1s 54ms/step - loss: 0.0060\n",
            "Epoch 36/100\n",
            "24/24 [==============================] - 1s 54ms/step - loss: 0.0055\n",
            "Epoch 37/100\n",
            "24/24 [==============================] - 1s 54ms/step - loss: 0.0053\n",
            "Epoch 38/100\n",
            "24/24 [==============================] - 1s 54ms/step - loss: 0.0062\n",
            "Epoch 39/100\n",
            "24/24 [==============================] - 1s 55ms/step - loss: 0.0051\n",
            "Epoch 40/100\n",
            "24/24 [==============================] - 1s 54ms/step - loss: 0.0052\n",
            "Epoch 41/100\n",
            "24/24 [==============================] - 1s 55ms/step - loss: 0.0049\n",
            "Epoch 42/100\n",
            "24/24 [==============================] - 1s 54ms/step - loss: 0.0051\n",
            "Epoch 43/100\n",
            "24/24 [==============================] - 1s 54ms/step - loss: 0.0052\n",
            "Epoch 44/100\n",
            "24/24 [==============================] - 1s 54ms/step - loss: 0.0051\n",
            "Epoch 45/100\n",
            "24/24 [==============================] - 1s 54ms/step - loss: 0.0057\n",
            "Epoch 46/100\n",
            "24/24 [==============================] - 1s 53ms/step - loss: 0.0046\n",
            "Epoch 47/100\n",
            "24/24 [==============================] - 1s 54ms/step - loss: 0.0047\n",
            "Epoch 48/100\n",
            "24/24 [==============================] - 1s 55ms/step - loss: 0.0042\n",
            "Epoch 49/100\n",
            "24/24 [==============================] - 1s 53ms/step - loss: 0.0047\n",
            "Epoch 50/100\n",
            "24/24 [==============================] - 1s 53ms/step - loss: 0.0046\n",
            "Epoch 51/100\n",
            "24/24 [==============================] - 1s 54ms/step - loss: 0.0051\n",
            "Epoch 52/100\n",
            "24/24 [==============================] - 1s 54ms/step - loss: 0.0044\n",
            "Epoch 53/100\n",
            "24/24 [==============================] - 1s 54ms/step - loss: 0.0039\n",
            "Epoch 54/100\n",
            "24/24 [==============================] - 1s 55ms/step - loss: 0.0047\n",
            "Epoch 55/100\n",
            "24/24 [==============================] - 1s 54ms/step - loss: 0.0040\n",
            "Epoch 56/100\n",
            "24/24 [==============================] - 1s 53ms/step - loss: 0.0036\n",
            "Epoch 57/100\n",
            "24/24 [==============================] - 1s 54ms/step - loss: 0.0038\n",
            "Epoch 58/100\n",
            "24/24 [==============================] - 1s 54ms/step - loss: 0.0039\n",
            "Epoch 59/100\n",
            "24/24 [==============================] - 1s 54ms/step - loss: 0.0041\n",
            "Epoch 60/100\n",
            "24/24 [==============================] - 1s 54ms/step - loss: 0.0037\n",
            "Epoch 61/100\n",
            "24/24 [==============================] - 1s 54ms/step - loss: 0.0037\n",
            "Epoch 62/100\n",
            "24/24 [==============================] - 1s 54ms/step - loss: 0.0042\n",
            "Epoch 63/100\n",
            "24/24 [==============================] - 1s 53ms/step - loss: 0.0038\n",
            "Epoch 64/100\n",
            "24/24 [==============================] - 1s 54ms/step - loss: 0.0043\n",
            "Epoch 65/100\n",
            "24/24 [==============================] - 1s 54ms/step - loss: 0.0041\n",
            "Epoch 66/100\n",
            "24/24 [==============================] - 1s 53ms/step - loss: 0.0038\n",
            "Epoch 67/100\n",
            "24/24 [==============================] - 1s 53ms/step - loss: 0.0047\n",
            "Epoch 68/100\n",
            "24/24 [==============================] - 1s 54ms/step - loss: 0.0036\n",
            "Epoch 69/100\n",
            "24/24 [==============================] - 1s 53ms/step - loss: 0.0035\n",
            "Epoch 70/100\n",
            "24/24 [==============================] - 1s 54ms/step - loss: 0.0039\n",
            "Epoch 71/100\n",
            "24/24 [==============================] - 1s 54ms/step - loss: 0.0039\n",
            "Epoch 72/100\n",
            "24/24 [==============================] - 1s 54ms/step - loss: 0.0046\n",
            "Epoch 73/100\n",
            "24/24 [==============================] - 1s 54ms/step - loss: 0.0034\n",
            "Epoch 74/100\n",
            "24/24 [==============================] - 1s 54ms/step - loss: 0.0039\n",
            "Epoch 75/100\n",
            "24/24 [==============================] - 1s 54ms/step - loss: 0.0035\n",
            "Epoch 76/100\n",
            "24/24 [==============================] - 1s 54ms/step - loss: 0.0046\n",
            "Epoch 77/100\n",
            "24/24 [==============================] - 1s 54ms/step - loss: 0.0046\n",
            "Epoch 78/100\n",
            "24/24 [==============================] - 1s 52ms/step - loss: 0.0038\n",
            "Epoch 79/100\n",
            "24/24 [==============================] - 1s 54ms/step - loss: 0.0031\n",
            "Epoch 80/100\n",
            "24/24 [==============================] - 1s 53ms/step - loss: 0.0032\n",
            "Epoch 81/100\n",
            "24/24 [==============================] - 1s 54ms/step - loss: 0.0032\n",
            "Epoch 82/100\n",
            "24/24 [==============================] - 1s 55ms/step - loss: 0.0033\n",
            "Epoch 83/100\n",
            "24/24 [==============================] - 1s 55ms/step - loss: 0.0030\n",
            "Epoch 84/100\n",
            "24/24 [==============================] - 1s 54ms/step - loss: 0.0033\n",
            "Epoch 85/100\n",
            "24/24 [==============================] - 1s 52ms/step - loss: 0.0033\n",
            "Epoch 86/100\n",
            "24/24 [==============================] - 1s 53ms/step - loss: 0.0035\n",
            "Epoch 87/100\n",
            "24/24 [==============================] - 1s 54ms/step - loss: 0.0030\n",
            "Epoch 88/100\n",
            "24/24 [==============================] - 1s 54ms/step - loss: 0.0031\n",
            "Epoch 89/100\n",
            "24/24 [==============================] - 1s 55ms/step - loss: 0.0030\n",
            "Epoch 90/100\n",
            "24/24 [==============================] - 1s 54ms/step - loss: 0.0032\n",
            "Epoch 91/100\n",
            "24/24 [==============================] - 1s 54ms/step - loss: 0.0030\n",
            "Epoch 92/100\n",
            "24/24 [==============================] - 1s 52ms/step - loss: 0.0027\n",
            "Epoch 93/100\n",
            "24/24 [==============================] - 1s 53ms/step - loss: 0.0028\n",
            "Epoch 94/100\n",
            "24/24 [==============================] - 1s 54ms/step - loss: 0.0031\n",
            "Epoch 95/100\n",
            "24/24 [==============================] - 1s 55ms/step - loss: 0.0029\n",
            "Epoch 96/100\n",
            "24/24 [==============================] - 1s 55ms/step - loss: 0.0028\n",
            "Epoch 97/100\n",
            "24/24 [==============================] - 1s 55ms/step - loss: 0.0030\n",
            "Epoch 98/100\n",
            "24/24 [==============================] - 1s 55ms/step - loss: 0.0030\n",
            "Epoch 99/100\n",
            "24/24 [==============================] - 1s 54ms/step - loss: 0.0037\n",
            "Epoch 100/100\n",
            "24/24 [==============================] - 1s 55ms/step - loss: 0.0031\n"
          ],
          "name": "stdout"
        },
        {
          "output_type": "execute_result",
          "data": {
            "text/plain": [
              "<tensorflow.python.keras.callbacks.History at 0x7f772cbcddd8>"
            ]
          },
          "metadata": {
            "tags": []
          },
          "execution_count": 155
        }
      ]
    },
    {
      "cell_type": "code",
      "metadata": {
        "id": "_wmM_pchZx4t"
      },
      "source": [
        "dataset_train=data.iloc[:800,1:2]\n",
        "dataset_test=data.iloc[800:,1:2]"
      ],
      "execution_count": 156,
      "outputs": []
    },
    {
      "cell_type": "code",
      "metadata": {
        "id": "l88C_6j8bJv4"
      },
      "source": [
        "dataset_total=pd.concat((dataset_train,dataset_test),axis=0)"
      ],
      "execution_count": 157,
      "outputs": []
    },
    {
      "cell_type": "code",
      "metadata": {
        "id": "Fgq_AXG-bQzP"
      },
      "source": [
        "inputs=dataset_total[len(dataset_total)-len(dataset_test) -60:].values"
      ],
      "execution_count": 158,
      "outputs": []
    },
    {
      "cell_type": "code",
      "metadata": {
        "id": "sEUE1BnPbX83",
        "outputId": "d22c7176-8966-4f32-f6ea-86a31b30f243",
        "colab": {
          "base_uri": "https://localhost:8080/"
        }
      },
      "source": [
        "inputs = inputs.reshape(-1,1)\n",
        "inputs = sc.transform(inputs)\n",
        "x_test = []\n",
        "for i in range(60, 519):\n",
        "    x_test.append(inputs[i-60:i, 0])\n",
        "x_test = np.array(x_test)\n",
        "x_test = np.reshape(x_test, (x_test.shape[0], x_test.shape[1], 1))\n",
        "print(x_test.shape)"
      ],
      "execution_count": 159,
      "outputs": [
        {
          "output_type": "stream",
          "text": [
            "(459, 60, 1)\n"
          ],
          "name": "stdout"
        }
      ]
    },
    {
      "cell_type": "markdown",
      "metadata": {
        "id": "K8EWemOsfuWg"
      },
      "source": [
        "# Predict the stock price for data test"
      ]
    },
    {
      "cell_type": "code",
      "metadata": {
        "id": "4f_ZRlVvcDu7",
        "outputId": "aea974ac-838e-492c-e36c-aa1ba0a4bc02",
        "colab": {
          "base_uri": "https://localhost:8080/"
        }
      },
      "source": [
        "#range(0,1)\n",
        "predict_stock_price=model.predict(X_test)\n",
        "predict_stock_price.shape"
      ],
      "execution_count": 160,
      "outputs": [
        {
          "output_type": "execute_result",
          "data": {
            "text/plain": [
              "(459, 1)"
            ]
          },
          "metadata": {
            "tags": []
          },
          "execution_count": 160
        }
      ]
    },
    {
      "cell_type": "code",
      "metadata": {
        "id": "mKF-JIfucpFN"
      },
      "source": [
        "#undo the scaling of data according to feature_reage\n",
        "predict_stock_price=sc.inverse_transform(np.reshape(predict_stock_price,(predict_stock_price.shape[0],predict_stock_price.shape[1])))"
      ],
      "execution_count": 161,
      "outputs": []
    },
    {
      "cell_type": "code",
      "metadata": {
        "id": "DfmuVvn0fEPJ",
        "outputId": "4055ab82-046d-4218-cdfa-57454939a2e3",
        "colab": {
          "base_uri": "https://localhost:8080/",
          "height": 471
        }
      },
      "source": [
        "plt.figure(figsize=(20,10))\n",
        "plt.plot(data.iloc[800:,0],dataset_test.values,color='red',label='Real TESLA Stock Price')\n",
        "plt.plot(data.iloc[800:,0],predict_stock_price,color='blue',label='Predict TESLA Stock Price')\n",
        "#function is used to for get and set the current tick location and label of the x-axis\n",
        "plt.xticks(np.arange(0,459,50))\n",
        "plt.xlabel('Time')\n",
        "plt.ylabel('TESLA Stock Price')\n",
        "plt.legend()\n",
        "plt.savefig('image.jpg')\n",
        "plt.show()"
      ],
      "execution_count": 177,
      "outputs": [
        {
          "output_type": "display_data",
          "data": {
            "image/png": "[encoded data removed]",
            "text/plain": [
              "<Figure size 1440x720 with 1 Axes>"
            ]
          },
          "metadata": {
            "tags": [],
            "needs_background": "light"
          }
        }
      ]
    },
    {
      "cell_type": "code",
      "metadata": {
        "id": "m0S1X0RXu078"
      },
      "source": [
        ""
      ],
      "execution_count": null,
      "outputs": []
    }
  ]
}