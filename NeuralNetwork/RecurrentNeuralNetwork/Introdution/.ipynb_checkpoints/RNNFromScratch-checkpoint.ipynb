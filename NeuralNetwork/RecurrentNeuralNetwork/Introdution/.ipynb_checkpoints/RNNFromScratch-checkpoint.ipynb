{
 "cells": [
  {
   "cell_type": "markdown",
   "metadata": {},
   "source": [
    "# Introduction Recurrent Neural Network\n",
    "<font size=\"4\">This lesson is introduce the RNN for beginner.We'll using the RNN for predict a sentence is positive or negative"
   ]
  },
  {
   "cell_type": "code",
   "execution_count": 1,
   "metadata": {},
   "outputs": [],
   "source": [
    "from data import train_data,test_data\n",
    "import numpy as np\n",
    "import random\n",
    "from RNN import rnn"
   ]
  },
  {
   "cell_type": "code",
   "execution_count": 2,
   "metadata": {},
   "outputs": [
    {
     "name": "stdout",
     "output_type": "stream",
     "text": [
      "['happy', 'and', 'bad', 'i', 'at', 'very', 'am', 'all', 'not', 'this', 'now', 'earlier', 'or', 'was', 'good', 'right', 'is', 'sad']\n"
     ]
    }
   ],
   "source": [
    "vocab=list(set([w for text in train_data.keys() for w in text.split(' ')]))\n",
    "vocab_size=len(vocab)\n",
    "print(vocab)"
   ]
  },
  {
   "cell_type": "markdown",
   "metadata": {},
   "source": [
    "# I) Preprocessing Data "
   ]
  },
  {
   "cell_type": "code",
   "execution_count": 3,
   "metadata": {},
   "outputs": [],
   "source": [
    "word_to_index={w:i for i,w in enumerate(vocab)}\n",
    "index_to_word={i:w for i,w in enumerate(vocab)}"
   ]
  },
  {
   "cell_type": "markdown",
   "metadata": {},
   "source": [
    "## a) Build one-hot coding for input(text)"
   ]
  },
  {
   "cell_type": "code",
   "execution_count": 4,
   "metadata": {},
   "outputs": [],
   "source": [
    "def convert_to_onehot_coding(text):\n",
    "    inputs=[]\n",
    "    for w in text.split(' '):\n",
    "        temp=np.zeros((vocab_size,1))\n",
    "        temp[word_to_index[w]]=1\n",
    "        inputs.append(temp)\n",
    "\n",
    "    return inputs"
   ]
  },
  {
   "cell_type": "code",
   "execution_count": 5,
   "metadata": {},
   "outputs": [],
   "source": [
    "def softmax(pro):\n",
    "    return np.exp(pro)/sum(np.exp(pro))"
   ]
  },
  {
   "cell_type": "code",
   "execution_count": 7,
   "metadata": {},
   "outputs": [],
   "source": [
    "def processing_data(data_train):\n",
    "    item=list(data_train.items())\n",
    "    random.shuffle(item)\n",
    "    \n",
    "    for text,value in item:\n",
    "        inputs=convert_to_onehot_coding(text)\n",
    "        target=int(value)\n",
    "        ouput=rnn.forward(inputs)\n",
    "        \n",
    "    "
   ]
  },
  {
   "cell_type": "code",
   "execution_count": null,
   "metadata": {},
   "outputs": [],
   "source": []
  }
 ],
 "metadata": {
  "kernelspec": {
   "display_name": "Python 3",
   "language": "python",
   "name": "python3"
  },
  "language_info": {
   "codemirror_mode": {
    "name": "ipython",
    "version": 3
   },
   "file_extension": ".py",
   "mimetype": "text/x-python",
   "name": "python",
   "nbconvert_exporter": "python",
   "pygments_lexer": "ipython3",
   "version": "3.7.6"
  }
 },
 "nbformat": 4,
 "nbformat_minor": 4
}
