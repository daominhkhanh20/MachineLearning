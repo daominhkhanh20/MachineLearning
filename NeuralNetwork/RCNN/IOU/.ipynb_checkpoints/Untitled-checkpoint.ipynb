{
 "cells": [
  {
   "cell_type": "code",
   "execution_count": 10,
   "metadata": {},
   "outputs": [],
   "source": [
    "import cv2\n",
    "import numpy as np\n",
    "from matplotlib import pyplot as plt\n",
    "from collections import namedtuple"
   ]
  },
  {
   "cell_type": "markdown",
   "metadata": {},
   "source": [
    "# Information about the Box\n",
    "Each box has 4 attribute ($x_1,y_1,x_2,y_2$)\n",
    "* The ($x_1,y_1$) portion is coordinate at the top left conner\n",
    "* The ($x_2,y_2$) portion is coordinate at the bottom right conner"
   ]
  },
  {
   "cell_type": "code",
   "execution_count": 11,
   "metadata": {},
   "outputs": [],
   "source": [
    "def calcualte_intersection_over_unit(boxA,boxB):\n",
    "    x_top_left=max(boxA[0],boxB[0])\n",
    "    y_top_left=max(boxA[1],boxB[1])\n",
    "    x_right_bottom=min(boxA[2],boxB[2])\n",
    "    y_right_bottom=min(boxA[3],boxB[3])\n",
    "    \n",
    "    intersection_area=max(0,x_right_bottom-x_top_left+1)*max(0,y_right_bottom-y_top_left+1)\n",
    "    \n",
    "    boxA_area=(boxA[2]-boxA[0]+1)*(boxA[3]-boxA[1]+1)\n",
    "    boxB_area=(boxB[2]-boxB[0]+1)*(boxB[3]-boxB[1]+1)\n",
    "    IOU=intersection_area/(boxA_area+boxB_area-intersection_area)\n",
    "    return IOU\n"
   ]
  },
  {
   "cell_type": "code",
   "execution_count": 12,
   "metadata": {},
   "outputs": [],
   "source": [
    "Detection=namedtuple(\"Detection\",[\"image_path\",\"ground_truth\",\"predict_bounding_box\"])\n",
    "example=[Detection(\"1.jpg\", [39, 63, 203, 112], [54, 66, 198, 114]),\n",
    "\tDetection(\"2.jpg\", [49, 75, 203, 125], [42, 78, 186, 126]),\n",
    "\tDetection(\"3.jpg\", [31, 69, 201, 125], [18, 63, 235, 135]),\n",
    "\tDetection(\"4.jpg\", [50, 72, 197, 121], [54, 72, 198, 120]),\n",
    "\tDetection(\"5.jpg\", [35, 51, 196, 110], [36, 60, 180, 108])]"
   ]
  },
  {
   "cell_type": "code",
   "execution_count": null,
   "metadata": {},
   "outputs": [],
   "source": [
    "fig,ax=plt.subplots(1,5,figsize=(100,100))\n",
    "\n",
    "for i,detection in enumerate(example):\n",
    "    image=cv2.imread(detection.image_path)\n",
    "    plt.imshow(image)\n",
    "    cv2.rectangle(image,tuple(detection.ground_truth[:2]),tuple(detection.ground_truth[2:]),\n",
    "                 (0, 255, 0),2)\n",
    "    \n",
    "    cv2.rectangle(image,tuple(detection.predict_bounding_box[:2]),tuple(detection.predict_bounding_box[2:]),\n",
    "                 (0,0,255),2)\n",
    "    \n",
    "    iou=calcualte_intersection_over_unit(detection.ground_truth,detection.predict_bounding_box)\n",
    "    cv2.putText(image,\"IOU {:.4f}\".format(iou),(10,30),cv2.FONT_HERSHEY_SIMPLEX,0.6,(0,255,0),2)\n",
    "    \n",
    "#     print(detection.image_path+\", IOU:\",iou)\n",
    "#     ax[i].imshow(image)\n",
    "    \n",
    "#     cv2.imshow(\"image\",image)\n",
    "#     cv2.waitKey(0)\n",
    "\n",
    "    \n"
   ]
  },
  {
   "cell_type": "code",
   "execution_count": null,
   "metadata": {},
   "outputs": [],
   "source": []
  }
 ],
 "metadata": {
  "kernelspec": {
   "display_name": "Python 3",
   "language": "python",
   "name": "python3"
  },
  "language_info": {
   "codemirror_mode": {
    "name": "ipython",
    "version": 3
   },
   "file_extension": ".py",
   "mimetype": "text/x-python",
   "name": "python",
   "nbconvert_exporter": "python",
   "pygments_lexer": "ipython3",
   "version": "3.7.6"
  }
 },
 "nbformat": 4,
 "nbformat_minor": 4
}
