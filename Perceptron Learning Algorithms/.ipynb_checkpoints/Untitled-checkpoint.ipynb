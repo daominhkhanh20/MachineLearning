{
 "cells": [
  {
   "cell_type": "code",
   "execution_count": 2,
   "metadata": {},
   "outputs": [
    {
     "output_type": "error",
     "ename": "IndexError",
     "evalue": "list index out of range",
     "traceback": [
      "\u001b[0;31m---------------------------------------------------------------------------\u001b[0m",
      "\u001b[0;31mIndexError\u001b[0m                                Traceback (most recent call last)",
      "\u001b[0;32m<ipython-input-2-e6ae0ba68741>\u001b[0m in \u001b[0;36m<module>\u001b[0;34m\u001b[0m\n\u001b[1;32m     63\u001b[0m         \u001b[0;31m#generate for w\u001b[0m\u001b[0;34m\u001b[0m\u001b[0;34m\u001b[0m\u001b[0;34m\u001b[0m\u001b[0m\n\u001b[1;32m     64\u001b[0m         \u001b[0mw_initial\u001b[0m \u001b[0;34m=\u001b[0m \u001b[0mnp\u001b[0m\u001b[0;34m.\u001b[0m\u001b[0mrandom\u001b[0m\u001b[0;34m.\u001b[0m\u001b[0mrandn\u001b[0m\u001b[0;34m(\u001b[0m\u001b[0mXbar\u001b[0m\u001b[0;34m.\u001b[0m\u001b[0mshape\u001b[0m\u001b[0;34m[\u001b[0m\u001b[0;36m1\u001b[0m\u001b[0;34m]\u001b[0m\u001b[0;34m)\u001b[0m\u001b[0;34m\u001b[0m\u001b[0;34m\u001b[0m\u001b[0m\n\u001b[0;32m---> 65\u001b[0;31m         \u001b[0mperceptron_algorithms\u001b[0m\u001b[0;34m(\u001b[0m\u001b[0mw_initial\u001b[0m\u001b[0;34m,\u001b[0m \u001b[0mXbar\u001b[0m\u001b[0;34m,\u001b[0m\u001b[0my\u001b[0m\u001b[0;34m)\u001b[0m\u001b[0;34m\u001b[0m\u001b[0;34m\u001b[0m\u001b[0m\n\u001b[0m\u001b[1;32m     66\u001b[0m \u001b[0;34m\u001b[0m\u001b[0m\n\u001b[1;32m     67\u001b[0m \u001b[0;34m\u001b[0m\u001b[0m\n",
      "\u001b[0;32m<ipython-input-2-e6ae0ba68741>\u001b[0m in \u001b[0;36mperceptron_algorithms\u001b[0;34m(w_init, X, y)\u001b[0m\n\u001b[1;32m     38\u001b[0m     \u001b[0mmiss_point\u001b[0m\u001b[0;34m=\u001b[0m\u001b[0;34m[\u001b[0m\u001b[0;34m]\u001b[0m\u001b[0;34m\u001b[0m\u001b[0;34m\u001b[0m\u001b[0m\n\u001b[1;32m     39\u001b[0m     \u001b[0;32mwhile\u001b[0m \u001b[0;32mTrue\u001b[0m\u001b[0;34m:\u001b[0m\u001b[0;34m\u001b[0m\u001b[0;34m\u001b[0m\u001b[0m\n\u001b[0;32m---> 40\u001b[0;31m         \u001b[0mvisualization\u001b[0m\u001b[0;34m(\u001b[0m\u001b[0mw\u001b[0m\u001b[0;34m[\u001b[0m\u001b[0;34m-\u001b[0m\u001b[0;36m1\u001b[0m\u001b[0;34m]\u001b[0m\u001b[0;34m,\u001b[0m\u001b[0miteration\u001b[0m\u001b[0;34m,\u001b[0m\u001b[0mmiss_point\u001b[0m\u001b[0;34m[\u001b[0m\u001b[0;34m-\u001b[0m\u001b[0;36m1\u001b[0m\u001b[0;34m]\u001b[0m\u001b[0;34m)\u001b[0m\u001b[0;34m\u001b[0m\u001b[0;34m\u001b[0m\u001b[0m\n\u001b[0m\u001b[1;32m     41\u001b[0m         \u001b[0miteration\u001b[0m\u001b[0;34m+=\u001b[0m\u001b[0;36m1\u001b[0m\u001b[0;34m\u001b[0m\u001b[0;34m\u001b[0m\u001b[0m\n\u001b[1;32m     42\u001b[0m         \u001b[0mpre\u001b[0m \u001b[0;34m=\u001b[0m \u001b[0mpredict\u001b[0m\u001b[0;34m(\u001b[0m\u001b[0mw\u001b[0m\u001b[0;34m[\u001b[0m\u001b[0;34m-\u001b[0m\u001b[0;36m1\u001b[0m\u001b[0;34m]\u001b[0m\u001b[0;34m,\u001b[0m \u001b[0mX\u001b[0m\u001b[0;34m)\u001b[0m\u001b[0;34m\u001b[0m\u001b[0;34m\u001b[0m\u001b[0m\n",
      "\u001b[0;31mIndexError\u001b[0m: list index out of range"
     ]
    }
   ],
   "source": [
    "import numpy as np\n",
    "from matplotlib import pyplot as plt\n",
    "#lib for save graph into file pdf\n",
    "from matplotlib.backends.backend_pdf import PdfPages\n",
    "\n",
    "#generate data for algorithms\n",
    "means = [[-1,0],[1,0]]\n",
    "covariance_matrix = [[0.3,0.2],[0.2,0.3]]\n",
    "n = 10\n",
    "x1 = np.random.multivariate_normal(means[0], covariance_matrix, n)\n",
    "x2 = np.random.multivariate_normal(means[1], covariance_matrix, n)\n",
    "\n",
    "\n",
    "def predict(w, X):\n",
    "\treturn np.sign(X.dot(w))\n",
    "\n",
    "\n",
    "def visualization(w, iteration,miss_point_array):\n",
    "    plt.plot(x1[:, 0], x1[:, 1], 'bs')  # blue square\n",
    "    plt.plot(x2[:, 0], x2[:, 1], 'ro')  # red circle marker\n",
    "    plt.axis('equal')\n",
    "    plt.xlabel('$x1$', fontsize=20)\n",
    "    plt.ylabel('$x2$', fontsize=20)\n",
    "    str_it = 'Iterarion: {}'.format(iteration)\n",
    "    plt.title(str_it)\n",
    "    circle=plt.Circle(m)\n",
    "    #draw the normal vector for hyperplane\n",
    "    x_temp = np.arange(-1, 0.9,0.1)\n",
    "    c, a,b = w[0],w[1],w[2]\n",
    "    y = -a/b*x_temp-c/b\n",
    "    plt.plot(x_temp, y, 'k')\n",
    "    plt.show()\n",
    "\n",
    "\n",
    "def perceptron_algorithms(w_init,X,y):\n",
    "    w=[w_init]\n",
    "    iteration=0\n",
    "    miss_point=[]\n",
    "    while True:\n",
    "        visualization(w[-1],iteration,miss_point[-1])\n",
    "        iteration+=1\n",
    "        pre = predict(w[-1], X)\n",
    "        #find index for misclassified point\n",
    "        mis_index = np.where(np.equal(pre, y) == False)[0]  # convert to array\n",
    "        number_misclassified = mis_index.shape[0]\n",
    "        miss_point.append(mis_index)\n",
    "        if number_misclassified == 0:\n",
    "            break\n",
    "        random_index=np.random.choice(mis_index,1)[0]\n",
    "        w.append(w[-1]+y[random_index]*X[random_index])\n",
    "\n",
    "\n",
    "\n",
    "if __name__ ==\"__main__\":\n",
    "\t#number data point in each domain\n",
    "\t#each row is data point\n",
    "\tX = np.concatenate((x1,x2),axis=0)\n",
    "\t#label for each domain,-1/1\n",
    "\ty = np.concatenate((np.ones(n),-1*np.ones(n)))\n",
    "\t#add 1 dimention into each data point (bias trick)\n",
    "\tXbar = np.concatenate((np.ones((2*n,1)),X),axis=1)\n",
    "\n",
    "\t#generate for w\n",
    "\tw_initial = np.random.randn(Xbar.shape[1])\n",
    "\tperceptron_algorithms(w_initial, Xbar,y)\n",
    "\n",
    "    "
   ]
  },
  {
   "cell_type": "code",
   "execution_count": null,
   "metadata": {},
   "outputs": [],
   "source": []
  }
 ],
 "metadata": {
  "kernelspec": {
   "display_name": "Python 3",
   "language": "python",
   "name": "python3"
  },
  "language_info": {
   "codemirror_mode": {
    "name": "ipython",
    "version": 3
   },
   "file_extension": ".py",
   "mimetype": "text/x-python",
   "name": "python",
   "nbconvert_exporter": "python",
   "pygments_lexer": "ipython3",
   "version": "3.7.6"
  }
 },
 "nbformat": 4,
 "nbformat_minor": 4
}