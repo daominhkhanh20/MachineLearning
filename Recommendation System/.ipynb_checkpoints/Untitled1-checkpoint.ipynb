{
 "cells": [
  {
   "cell_type": "code",
   "execution_count": 3,
   "metadata": {},
   "outputs": [
    {
     "name": "stdout",
     "output_type": "stream",
     "text": [
      "     user_id  age sex     occupation zip_code\n",
      "0          1   24   M     technician    85711\n",
      "1          2   53   F          other    94043\n",
      "2          3   23   M         writer    32067\n",
      "3          4   24   M     technician    43537\n",
      "4          5   33   F          other    15213\n",
      "..       ...  ...  ..            ...      ...\n",
      "938      939   26   F        student    33319\n",
      "939      940   32   M  administrator    02215\n",
      "940      941   20   M        student    97229\n",
      "941      942   48   F      librarian    78209\n",
      "942      943   22   M        student    77841\n",
      "\n",
      "[943 rows x 5 columns]\n",
      "Number user: 943\n"
     ]
    }
   ],
   "source": [
    "#Read data \n",
    "import pandas as pd\n",
    "infor_users_column=['user_id','age','sex','occupation','zip_code']\n",
    "\n",
    "table_user=pd.read_csv('ml-100k/u.user',sep='|',names=infor_users_column,encoding='latin-1')\n",
    "print(table_user)\n",
    "n_users=table_user.shape[0]\n",
    "print(\"Number user:\",n_users)"
   ]
  },
  {
   "cell_type": "code",
   "execution_count": 4,
   "metadata": {},
   "outputs": [
    {
     "name": "stdout",
     "output_type": "stream",
     "text": [
      "       user_id  movie_id  rateing_point       time\n",
      "0            1         1              5  874965758\n",
      "1            1         2              3  876893171\n",
      "2            1         3              4  878542960\n",
      "3            1         4              3  876893119\n",
      "4            1         5              3  889751712\n",
      "...        ...       ...            ...        ...\n",
      "90565      943      1047              2  875502146\n",
      "90566      943      1074              4  888640250\n",
      "90567      943      1188              3  888640250\n",
      "90568      943      1228              3  888640275\n",
      "90569      943      1330              3  888692465\n",
      "\n",
      "[90570 rows x 4 columns]\n",
      "      user_id  movie_id  rateing_point       time\n",
      "0           1        20              4  887431883\n",
      "1           1        33              4  878542699\n",
      "2           1        61              4  878542420\n",
      "3           1       117              3  874965739\n",
      "4           1       155              2  878542201\n",
      "...       ...       ...            ...        ...\n",
      "9425      943       232              4  888639867\n",
      "9426      943       356              4  888639598\n",
      "9427      943       570              1  888640125\n",
      "9428      943       808              4  888639868\n",
      "9429      943      1067              2  875501756\n",
      "\n",
      "[9430 rows x 4 columns]\n",
      "Number rate train: 90570\n",
      "Number rate test: 9430\n"
     ]
    }
   ],
   "source": [
    "rate_cols=['user_id','movie_id','rateing_point','time']\n",
    "rate_base=pd.read_csv('ml-100k/ua.base',sep='\\t',names=rate_cols)\n",
    "rate_test=pd.read_csv('ml-100k/ua.test',sep='\\t',names=rate_cols)\n",
    "print(rate_base)\n",
    "print(rate_test)\n",
    "#convert 2 Data frame into narray\n",
    "rate_train=pd.DataFrame(rate_base).to_numpy()\n",
    "rate_test=pd.DataFrame(rate_test).to_numpy()\n",
    "print(\"Number rate train:\",rate_train.shape[0])\n",
    "print(\"Number rate test:\",rate_test.shape[0])"
   ]
  },
  {
   "cell_type": "code",
   "execution_count": null,
   "metadata": {},
   "outputs": [],
   "source": []
  }
 ],
 "metadata": {
  "kernelspec": {
   "display_name": "Python 3",
   "language": "python",
   "name": "python3"
  },
  "language_info": {
   "codemirror_mode": {
    "name": "ipython",
    "version": 3
   },
   "file_extension": ".py",
   "mimetype": "text/x-python",
   "name": "python",
   "nbconvert_exporter": "python",
   "pygments_lexer": "ipython3",
   "version": "3.7.6"
  },
  "toc": {
   "base_numbering": 1,
   "nav_menu": {},
   "number_sections": true,
   "sideBar": true,
   "skip_h1_title": false,
   "title_cell": "Table of Contents",
   "title_sidebar": "Contents",
   "toc_cell": false,
   "toc_position": {},
   "toc_section_display": true,
   "toc_window_display": false
  }
 },
 "nbformat": 4,
 "nbformat_minor": 4
}
