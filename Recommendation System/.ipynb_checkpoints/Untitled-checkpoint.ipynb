{
 "cells": [
  {
   "cell_type": "code",
   "execution_count": 17,
   "metadata": {},
   "outputs": [
    {
     "name": "stdout",
     "output_type": "stream",
     "text": [
      "     user_id  age sex     occupation zip_code\n",
      "0          1   24   M     technician    85711\n",
      "1          2   53   F          other    94043\n",
      "2          3   23   M         writer    32067\n",
      "3          4   24   M     technician    43537\n",
      "4          5   33   F          other    15213\n",
      "..       ...  ...  ..            ...      ...\n",
      "938      939   26   F        student    33319\n",
      "939      940   32   M  administrator    02215\n",
      "940      941   20   M        student    97229\n",
      "941      942   48   F      librarian    78209\n",
      "942      943   22   M        student    77841\n",
      "\n",
      "[943 rows x 5 columns]\n",
      "Number user: 943\n"
     ]
    }
   ],
   "source": [
    "#Read data \n",
    "import pandas as pd\n",
    "infor_users_column=['user_id','age','sex','occupation','zip_code']\n",
    "\n",
    "table_user=pd.read_csv('ml-100k/u.user',sep='|',names=infor_users_column,encoding='latin-1')\n",
    "print(table_user)\n",
    "n_users=table_user.shape[0]\n",
    "print(\"Number user:\",n_users)"
   ]
  },
  {
   "cell_type": "code",
   "execution_count": 19,
   "metadata": {},
   "outputs": [
    {
     "name": "stdout",
     "output_type": "stream",
     "text": [
      "       user_id  movie_id  rateing_point       time\n",
      "0            1         1              5  874965758\n",
      "1            1         2              3  876893171\n",
      "2            1         3              4  878542960\n",
      "3            1         4              3  876893119\n",
      "4            1         5              3  889751712\n",
      "...        ...       ...            ...        ...\n",
      "90565      943      1047              2  875502146\n",
      "90566      943      1074              4  888640250\n",
      "90567      943      1188              3  888640250\n",
      "90568      943      1228              3  888640275\n",
      "90569      943      1330              3  888692465\n",
      "\n",
      "[90570 rows x 4 columns]\n",
      "      user_id  movie_id  rateing_point       time\n",
      "0           1        20              4  887431883\n",
      "1           1        33              4  878542699\n",
      "2           1        61              4  878542420\n",
      "3           1       117              3  874965739\n",
      "4           1       155              2  878542201\n",
      "...       ...       ...            ...        ...\n",
      "9425      943       232              4  888639867\n",
      "9426      943       356              4  888639598\n",
      "9427      943       570              1  888640125\n",
      "9428      943       808              4  888639868\n",
      "9429      943      1067              2  875501756\n",
      "\n",
      "[9430 rows x 4 columns]\n",
      "[  1   1   1 ... 943 943 943]\n"
     ]
    }
   ],
   "source": [
    "rate_cols=['user_id','movie_id','rateing_point','time']\n",
    "rate_base=pd.read_csv('ml-100k/ua.base',sep='\\t',names=rate_cols)\n",
    "rate_test=pd.read_csv('ml-100k/ua.test',sep='\\t',names=rate_cols)\n",
    "print(rate_base)\n",
    "print(rate_test)\n",
    "#convert 2 Data frame into narray\n",
    "rate_train=pd.DataFrame(rate_base).to_numpy()\n",
    "rate_test=pd.DataFrame(rate_test).to_numpy()\n",
    "print(\"Number rate train:\",rate_train.shape[0])\n",
    "print(\"Number rate test:\",rate_test.shape[0])\n"
   ]
  },
  {
   "cell_type": "code",
   "execution_count": 6,
   "metadata": {},
   "outputs": [
    {
     "name": "stdout",
     "output_type": "stream",
     "text": [
      "Number items: 1682\n"
     ]
    }
   ],
   "source": [
    "\"\"\"\n",
    "File u.item has information of the film\n",
    "\"\"\"\n",
    "i_cols = ['movie id', 'movie title' ,'release date','video release date', 'IMDb URL', 'unknown', 'Action', 'Adventure',\n",
    " 'Animation', 'Children\\'s', 'Comedy', 'Crime', 'Documentary', 'Drama', 'Fantasy',\n",
    " 'Film-Noir', 'Horror', 'Musical', 'Mystery', 'Romance', 'Sci-Fi', 'Thriller', 'War', 'Western']\n",
    "\n",
    "items=pd.read_csv('ml-100k/u.item',sep='|',names=i_cols,encoding='latin-1')\n",
    "#convet to aarray\n",
    "arr_items=pd.DataFrame(items).to_numpy()\n",
    "print(\"Number items:\",arr_items.shape[0])"
   ]
  },
  {
   "cell_type": "code",
   "execution_count": 12,
   "metadata": {},
   "outputs": [
    {
     "name": "stdout",
     "output_type": "stream",
     "text": [
      "[[0 0 0 ... 0 0 0]\n",
      " [0 1 1 ... 1 0 0]\n",
      " [0 0 0 ... 1 0 0]\n",
      " ...\n",
      " [0 0 0 ... 0 0 0]\n",
      " [0 0 0 ... 0 0 0]\n",
      " [0 0 0 ... 0 0 0]]\n",
      "(1682, 19)\n"
     ]
    }
   ],
   "source": [
    "X_train=arr_items[:,-19:]\n",
    "print(X_train)\n",
    "print(X_train.shape)"
   ]
  },
  {
   "cell_type": "code",
   "execution_count": 24,
   "metadata": {},
   "outputs": [
    {
     "name": "stdout",
     "output_type": "stream",
     "text": [
      "(1682, 19)\n"
     ]
    }
   ],
   "source": [
    "#Read more TF-IDF\n",
    "#https://www.freecodecamp.org/news/how-to-process-textual-data-using-tf-idf-in-python-cd2bbc0a94a3/\n",
    "#https://scikit-learn.org/stable/modules/generated/sklearn.feature_extraction.text.TfidfTransformer.html\n",
    "\n",
    "\n",
    "#calculate the feature vector for the data (used to the Time frequency inverse data frequency)\n",
    "from sklearn.feature_extraction.text import TfidfTransformer#Time frequency inverse data frequency\n",
    "transform=TfidfTransformer(smooth_idf=True, norm='l2')\n",
    "X=transform.fit_transform(X_train.tolist()).toarray()\n",
    "print(X.shape)\n"
   ]
  },
  {
   "cell_type": "code",
   "execution_count": 48,
   "metadata": {},
   "outputs": [],
   "source": [
    "def get_items_rated(rate_train,user_id):\n",
    "    y=rate_train[:,0]\n",
    "    index=np.where(y==user_id+1)[0]#convert to array\n",
    "    movie_ids=rate_train[index,1]-1 #because the movie ids start from 1\n",
    "    scores=rate_train[index,2]\n",
    "    return (movie_ids,scores)"
   ]
  },
  {
   "cell_type": "code",
   "execution_count": 53,
   "metadata": {},
   "outputs": [],
   "source": [
    "from sklearn.linear_model import Ridge\n",
    "from sklearn import linear_model\n",
    "import numpy as np\n",
    "d=X.shape[1]# data demention\n",
    "W=np.zeros((d,n_users)) #each column is the weight matrix for each user\n",
    "b=np.zeros(n_users)\n",
    "\n",
    "for i in range(n_users):\n",
    "    (movie_id,scores)=get_items_rated(rate_train,i)\n",
    "    # used to the linear regression\n",
    "    model=Ridge(alpha=0.01,fit_intercept=True)\n",
    "    feature_X=X[movie_id,:]\n",
    "    model.fit(feature_X,scores)\n",
    "    W[:,i]=model.coef_\n",
    "    b[i]=model.intercept_\n",
    "\n",
    "#X is n-array with shape(movie_number,d)\n",
    "#W is n-array with shape (d,N-user)\n",
    "#add b[i] unit into each cell in i-th column \n",
    "Y_predict=X.dot(W)+b"
   ]
  },
  {
   "cell_type": "code",
   "execution_count": 1,
   "metadata": {},
   "outputs": [],
   "source": [
    "def loss_function(pre,y):\n",
    "    n=len(pre)\n",
    "    return 1/n*sum((pre[i]-y[i])**2 for i in range(n))"
   ]
  },
  {
   "cell_type": "code",
   "execution_count": 61,
   "metadata": {},
   "outputs": [
    {
     "name": "stdout",
     "output_type": "stream",
     "text": [
      "ID user: 777\n",
      "Rated movie id: [  21   78  143  167  226  415  464  500  608 1034]\n",
      "True rated: [5 5 5 5 4 3 3 4 4 3]\n",
      "Predict for rated scores: [3.91 3.47 3.47 2.9  3.34 1.94 2.31 3.83 2.9  2.9 ]\n",
      "Loss value: 1.3574283583805686\n"
     ]
    }
   ],
   "source": [
    "from random import randint\n",
    "ids_user_random=randint(0,n_users)\n",
    "(movie_ids,rating_scores)=get_items_rated(rate_test,ids_user_random)\n",
    "print(\"ID user:\",ids_random)\n",
    "print(\"Rated movie id:\",movie_ids)\n",
    "print(\"True rated:\",rating_scores)\n",
    "print(\"Predict for rated scores:\",Y_predict[movie_ids,ids_user_random])\n",
    "print(\"Loss value:\",loss_function(Y_predict[movie_ids,ids_user_random],rating_scores))"
   ]
  },
  {
   "cell_type": "code",
   "execution_count": null,
   "metadata": {},
   "outputs": [],
   "source": []
  }
 ],
 "metadata": {
  "kernelspec": {
   "display_name": "Python 3",
   "language": "python",
   "name": "python3"
  },
  "language_info": {
   "codemirror_mode": {
    "name": "ipython",
    "version": 3
   },
   "file_extension": ".py",
   "mimetype": "text/x-python",
   "name": "python",
   "nbconvert_exporter": "python",
   "pygments_lexer": "ipython3",
   "version": "3.7.6"
  },
  "toc": {
   "base_numbering": 1,
   "nav_menu": {},
   "number_sections": true,
   "sideBar": true,
   "skip_h1_title": false,
   "title_cell": "Table of Contents",
   "title_sidebar": "Contents",
   "toc_cell": false,
   "toc_position": {},
   "toc_section_display": true,
   "toc_window_display": false
  }
 },
 "nbformat": 4,
 "nbformat_minor": 4
}
