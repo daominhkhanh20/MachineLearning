{
 "cells": [
  {
   "cell_type": "code",
   "execution_count": 1,
   "metadata": {},
   "outputs": [],
   "source": [
    "import pandas as pd\n",
    "import numpy as np\n",
    "from numpy import log2\n",
    "import pprint"
   ]
  },
  {
   "cell_type": "markdown",
   "metadata": {},
   "source": [
    "# Dataset"
   ]
  },
  {
   "cell_type": "code",
   "execution_count": 2,
   "metadata": {},
   "outputs": [],
   "source": [
    "outlook = 'overcast,overcast,overcast,overcast,rainy,rainy,rainy,rainy,rainy,sunny,sunny,sunny,sunny,sunny'.split(',')\n",
    "temp = 'hot,cool,mild,hot,mild,cool,cool,mild,mild,hot,hot,mild,cool,mild'.split(',')\n",
    "humidity = 'high,normal,high,normal,high,normal,normal,normal,high,high,high,high,normal,normal'.split(',')\n",
    "windy = 'FALSE,TRUE,TRUE,FALSE,FALSE,FALSE,TRUE,FALSE,TRUE,FALSE,TRUE,FALSE,FALSE,TRUE'.split(',')\n",
    "play = 'yes,yes,yes,yes,yes,yes,no,yes,no,no,no,no,yes,yes'.split(',')"
   ]
  },
  {
   "cell_type": "markdown",
   "metadata": {},
   "source": [
    "# Create DataFrame"
   ]
  },
  {
   "cell_type": "code",
   "execution_count": 3,
   "metadata": {},
   "outputs": [
    {
     "data": {
      "text/html": [
       "<div>\n",
       "<style scoped>\n",
       "    .dataframe tbody tr th:only-of-type {\n",
       "        vertical-align: middle;\n",
       "    }\n",
       "\n",
       "    .dataframe tbody tr th {\n",
       "        vertical-align: top;\n",
       "    }\n",
       "\n",
       "    .dataframe thead th {\n",
       "        text-align: right;\n",
       "    }\n",
       "</style>\n",
       "<table border=\"1\" class=\"dataframe\">\n",
       "  <thead>\n",
       "    <tr style=\"text-align: right;\">\n",
       "      <th></th>\n",
       "      <th>outlook</th>\n",
       "      <th>temperature</th>\n",
       "      <th>humidity</th>\n",
       "      <th>windy</th>\n",
       "      <th>play</th>\n",
       "    </tr>\n",
       "  </thead>\n",
       "  <tbody>\n",
       "    <tr>\n",
       "      <th>0</th>\n",
       "      <td>overcast</td>\n",
       "      <td>hot</td>\n",
       "      <td>high</td>\n",
       "      <td>FALSE</td>\n",
       "      <td>yes</td>\n",
       "    </tr>\n",
       "    <tr>\n",
       "      <th>1</th>\n",
       "      <td>overcast</td>\n",
       "      <td>cool</td>\n",
       "      <td>normal</td>\n",
       "      <td>TRUE</td>\n",
       "      <td>yes</td>\n",
       "    </tr>\n",
       "    <tr>\n",
       "      <th>2</th>\n",
       "      <td>overcast</td>\n",
       "      <td>mild</td>\n",
       "      <td>high</td>\n",
       "      <td>TRUE</td>\n",
       "      <td>yes</td>\n",
       "    </tr>\n",
       "    <tr>\n",
       "      <th>3</th>\n",
       "      <td>overcast</td>\n",
       "      <td>hot</td>\n",
       "      <td>normal</td>\n",
       "      <td>FALSE</td>\n",
       "      <td>yes</td>\n",
       "    </tr>\n",
       "    <tr>\n",
       "      <th>4</th>\n",
       "      <td>rainy</td>\n",
       "      <td>mild</td>\n",
       "      <td>high</td>\n",
       "      <td>FALSE</td>\n",
       "      <td>yes</td>\n",
       "    </tr>\n",
       "    <tr>\n",
       "      <th>5</th>\n",
       "      <td>rainy</td>\n",
       "      <td>cool</td>\n",
       "      <td>normal</td>\n",
       "      <td>FALSE</td>\n",
       "      <td>yes</td>\n",
       "    </tr>\n",
       "    <tr>\n",
       "      <th>6</th>\n",
       "      <td>rainy</td>\n",
       "      <td>cool</td>\n",
       "      <td>normal</td>\n",
       "      <td>TRUE</td>\n",
       "      <td>no</td>\n",
       "    </tr>\n",
       "    <tr>\n",
       "      <th>7</th>\n",
       "      <td>rainy</td>\n",
       "      <td>mild</td>\n",
       "      <td>normal</td>\n",
       "      <td>FALSE</td>\n",
       "      <td>yes</td>\n",
       "    </tr>\n",
       "    <tr>\n",
       "      <th>8</th>\n",
       "      <td>rainy</td>\n",
       "      <td>mild</td>\n",
       "      <td>high</td>\n",
       "      <td>TRUE</td>\n",
       "      <td>no</td>\n",
       "    </tr>\n",
       "    <tr>\n",
       "      <th>9</th>\n",
       "      <td>sunny</td>\n",
       "      <td>hot</td>\n",
       "      <td>high</td>\n",
       "      <td>FALSE</td>\n",
       "      <td>no</td>\n",
       "    </tr>\n",
       "    <tr>\n",
       "      <th>10</th>\n",
       "      <td>sunny</td>\n",
       "      <td>hot</td>\n",
       "      <td>high</td>\n",
       "      <td>TRUE</td>\n",
       "      <td>no</td>\n",
       "    </tr>\n",
       "    <tr>\n",
       "      <th>11</th>\n",
       "      <td>sunny</td>\n",
       "      <td>mild</td>\n",
       "      <td>high</td>\n",
       "      <td>FALSE</td>\n",
       "      <td>no</td>\n",
       "    </tr>\n",
       "    <tr>\n",
       "      <th>12</th>\n",
       "      <td>sunny</td>\n",
       "      <td>cool</td>\n",
       "      <td>normal</td>\n",
       "      <td>FALSE</td>\n",
       "      <td>yes</td>\n",
       "    </tr>\n",
       "    <tr>\n",
       "      <th>13</th>\n",
       "      <td>sunny</td>\n",
       "      <td>mild</td>\n",
       "      <td>normal</td>\n",
       "      <td>TRUE</td>\n",
       "      <td>yes</td>\n",
       "    </tr>\n",
       "  </tbody>\n",
       "</table>\n",
       "</div>"
      ],
      "text/plain": [
       "     outlook temperature humidity  windy play\n",
       "0   overcast         hot     high  FALSE  yes\n",
       "1   overcast        cool   normal   TRUE  yes\n",
       "2   overcast        mild     high   TRUE  yes\n",
       "3   overcast         hot   normal  FALSE  yes\n",
       "4      rainy        mild     high  FALSE  yes\n",
       "5      rainy        cool   normal  FALSE  yes\n",
       "6      rainy        cool   normal   TRUE   no\n",
       "7      rainy        mild   normal  FALSE  yes\n",
       "8      rainy        mild     high   TRUE   no\n",
       "9      sunny         hot     high  FALSE   no\n",
       "10     sunny         hot     high   TRUE   no\n",
       "11     sunny        mild     high  FALSE   no\n",
       "12     sunny        cool   normal  FALSE  yes\n",
       "13     sunny        mild   normal   TRUE  yes"
      ]
     },
     "execution_count": 3,
     "metadata": {},
     "output_type": "execute_result"
    }
   ],
   "source": [
    "data={'outlook':outlook,'temperature':temp,'humidity':humidity,'windy':windy,'play':play}\n",
    "dataset=pd.DataFrame(data,columns=['outlook','temperature','humidity','windy','play'])\n",
    "dataset"
   ]
  },
  {
   "cell_type": "markdown",
   "metadata": {},
   "source": [
    "# Calculate  entropy H(s)\n",
    "<font size =\"3\"> We consider the problem has C class. Assuming that when we work with non-leaf nodes with S data point set, |S|=N. In N data point, it has $N_c$ point belong to class c. </font>\n",
    "    \n",
    " <br>\n",
    " <font size =\"3\"> \n",
    "    ==> Probability 1 point belongs to the class c is: \\begin{equation*}\\frac{ N_c}{N} \\end{equation*} (Maximum likelihood estimation).So entropy H(s) is:  </font>\n",
    "<img src=\"1.png\" width=\"400\" height=\"400\">"
   ]
  },
  {
   "cell_type": "code",
   "execution_count": 4,
   "metadata": {},
   "outputs": [],
   "source": [
    "def entropy(ds):\n",
    "    entropy=0.0\n",
    "    name_column=ds.keys()[-1]# return play\n",
    "    labels=ds[name_column].unique() # return ['yes','no']\n",
    "    \n",
    "    for label in labels:\n",
    "        fraction=ds[name_column].value_counts()[label]/len(ds[name_column])\n",
    "        entropy-=fraction*log2(fraction)\n",
    "    return entropy"
   ]
  },
  {
   "cell_type": "markdown",
   "metadata": {},
   "source": [
    "# Calculate H(x,S)\n",
    "<font size=\"3\"> In each attribute x, data points in S was divided into k child-node $S_1$,$S_2$,...,$S_k$, each node has $m_1$,$m_2$,...,$m_k$ data points </font>\n",
    "<img src=\"2.png\" width=\"400\" height=\"400\">\n",
    "\n",
    "<font size =\"4\" font color='red'> eps is smallest representable number. At times, we get log2(0) or 0 in the denominator, to avoid that we are going to use it </font>"
   ]
  },
  {
   "cell_type": "code",
   "execution_count": 5,
   "metadata": {},
   "outputs": [],
   "source": [
    "eps=np.finfo(float).eps\n",
    "\n",
    "def entropy_attribute(ds,attribute):\n",
    "    entropy=0\n",
    "    labels=ds[ds.keys()[-1]].unique()#return 'yes' and 'no'\n",
    "    features=ds[attribute].unique()\n",
    "    \n",
    "    for feature in features:\n",
    "        entr=0\n",
    "        for label in labels:\n",
    "            numerator=len(ds[attribute][ds[attribute]==feature][ds.play==label])\n",
    "            denominator=len(ds[attribute][ds[attribute]==feature])\n",
    "            fraction=numerator/(denominator)\n",
    "            entr=-fraction*log2(fraction+eps)\n",
    "        \n",
    "        entropy+=(denominator/len(ds))*entr\n",
    "    \n",
    "    return entropy\n",
    "        \n",
    "    "
   ]
  },
  {
   "cell_type": "code",
   "execution_count": 6,
   "metadata": {},
   "outputs": [],
   "source": [
    "def get_subtable(ds,node,attribute):\n",
    "    return ds[ds[node]==attribute].reset_index(drop=True)"
   ]
  },
  {
   "cell_type": "markdown",
   "metadata": {},
   "source": [
    "# Find attribute for node (non-leaf)\n",
    "<font size =\"3\">In the below function, we find attribute x which has max Gain Information G(x,S)</font>\n",
    "<img src=\"1.png\" width=\"400\" height=\"400\">\n",
    "<img src=\"2.png\" width=\"400\" height=\"400\">\n",
    "<br>\n",
    "$$G(x,S)=H(s)-H(x,S)$$<br>\n",
    "\n",
    "$$x= \\underset{x}{\\arg\\max} G(x,S) <==> \\underset{x}{\\arg\\min} H(x,S)$$"
   ]
  },
  {
   "cell_type": "code",
   "execution_count": 7,
   "metadata": {},
   "outputs": [],
   "source": [
    "def find_non_leaf(ds):\n",
    "    information_gain=[]\n",
    "    name_columns=ds.keys()[:-1]\n",
    "    \n",
    "    for name in name_columns:\n",
    "        information_gain.append(entropy(ds)-entropy_attribute(ds,name))\n",
    "        \n",
    "    return name_columns[np.argmax(information_gain)]"
   ]
  },
  {
   "cell_type": "markdown",
   "metadata": {},
   "source": [
    "# Build decision tree"
   ]
  },
  {
   "cell_type": "code",
   "execution_count": 8,
   "metadata": {},
   "outputs": [
    {
     "name": "stdout",
     "output_type": "stream",
     "text": [
      "{'outlook': {'overcast': 'yes',\n",
      "             'rainy': {'windy': {'FALSE': 'yes', 'TRUE': 'no'}},\n",
      "             'sunny': {'humidity': {'high': 'no', 'normal': 'yes'}}}}\n"
     ]
    }
   ],
   "source": [
    "def build_tree(ds,tree=None):\n",
    "    node=find_non_leaf(ds)\n",
    "    if tree is None:\n",
    "        tree={}\n",
    "        tree[node]={}\n",
    "    \n",
    "    attribute_list=np.unique(ds[node])\n",
    "    for attribute in attribute_list:\n",
    "        subtable=get_subtable(ds,node,attribute)\n",
    "        '''\n",
    "        labels_list: return list which has all result in dataset['play'] correspond with attribute \n",
    "        counts: return list has number 'yes', number 'no'\n",
    "        '''\n",
    "        label_list,counts=np.unique(subtable['play'],return_counts=True)\n",
    "        \n",
    "        if len(counts)==1:# is purity subset\n",
    "            tree[node][attribute]=label_list[0]\n",
    "        \n",
    "        else:\n",
    "            tree[node][attribute]=build_tree(subtable)\n",
    "            \n",
    "    return tree\n",
    "\n",
    "decision_tree=build_tree(dataset)\n",
    "pprint.pprint(decision_tree)"
   ]
  },
  {
   "cell_type": "code",
   "execution_count": null,
   "metadata": {},
   "outputs": [],
   "source": []
  }
 ],
 "metadata": {
  "kernelspec": {
   "display_name": "Python 3",
   "language": "python",
   "name": "python3"
  },
  "language_info": {
   "codemirror_mode": {
    "name": "ipython",
    "version": 3
   },
   "file_extension": ".py",
   "mimetype": "text/x-python",
   "name": "python",
   "nbconvert_exporter": "python",
   "pygments_lexer": "ipython3",
   "version": "3.7.6"
  },
  "toc": {
   "base_numbering": 1,
   "nav_menu": {},
   "number_sections": true,
   "sideBar": true,
   "skip_h1_title": false,
   "title_cell": "Table of Contents",
   "title_sidebar": "Contents",
   "toc_cell": false,
   "toc_position": {},
   "toc_section_display": true,
   "toc_window_display": false
  }
 },
 "nbformat": 4,
 "nbformat_minor": 4
}
