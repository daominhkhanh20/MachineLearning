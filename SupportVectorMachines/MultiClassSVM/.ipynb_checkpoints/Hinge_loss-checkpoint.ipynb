{
 "cells": [
  {
   "cell_type": "code",
   "execution_count": 4,
   "metadata": {},
   "outputs": [
    {
     "name": "stdout",
     "output_type": "stream",
     "text": [
      "[[0.64581075 0.91032622 0.33411304]\n",
      " [0.06797349 0.3759939  0.18788678]\n",
      " [0.5958689  0.18706935 0.39559061]\n",
      " [0.33842122 0.64634426 0.29616085]\n",
      " [0.68292805 0.45165939 0.50505912]]\n",
      "[[0.12947076 0.13616169 0.74834003 0.13510354 0.83377217]\n",
      " [0.9973037  0.95944771 0.72701174 0.91632233 0.35011879]\n",
      " [0.28867066 0.3566066  0.27128521 0.1782122  0.53847725]\n",
      " [0.73160772 0.58928819 0.82803413 0.52553398 0.69560172]\n",
      " [0.34212964 0.25267974 0.77152147 0.51398818 0.96333468]\n",
      " [0.15240256 0.42991656 0.19741536 0.82647998 0.5490937 ]\n",
      " [0.20088582 0.31276742 0.45300149 0.86589837 0.63902383]\n",
      " [0.06343064 0.60481016 0.39567356 0.36596005 0.44415822]\n",
      " [0.79330771 0.59315371 0.15600734 0.3917699  0.24235414]\n",
      " [0.16548897 0.37138684 0.47401866 0.65232532 0.52445137]]\n",
      "[0 1 0 1 0 1 0 2 2 2]\n"
     ]
    }
   ],
   "source": [
    "import numpy as np\n",
    "\n",
    "# n: number data\n",
    "# c: number class\n",
    "# d: number dimenstion of each data\n",
    "\n",
    "n,c,d=10,3,5\n",
    "w_init=np.random.rand(d,c)\n",
    "x=np.random.rand(n,d)\n",
    "print(w_init)\n",
    "print(x)\n",
    "print(y)"
   ]
  },
  {
   "cell_type": "code",
   "execution_count": 20,
   "metadata": {},
   "outputs": [],
   "source": [
    "#return loss value and grad\n",
    "def svm_loss_navie(w,x,y,lamda):\n",
    "    loss_value=0.0\n",
    "    d,c,n=w.shape[0],w.shape[1],x.shape[0]\n",
    "    grad_w=np.zeros_like(w)\n",
    "    \n",
    "    for i in range(n):\n",
    "        x_i=x[i]\n",
    "        score=x_i.dot(w)\n",
    "        \n",
    "        for j in range(c):\n",
    "            if j==y[i]:\n",
    "                continue\n",
    "            \n",
    "            magin=1-score[y[i]]+score[j]\n",
    "            if magin>0:\n",
    "                loss_value+=magin\n",
    "                grad_w[:,j]+=x_i\n",
    "                grad_w[:,y[i]]-=x_i\n",
    "                \n",
    "    \n",
    "    loss_value/=n\n",
    "    loss_value+=0.5*lamda*np.sum(w*w)\n",
    "    grad_w/=n\n",
    "    grad_w+=lamda*w\n",
    "    return loss_value,grad_w\n",
    "                          "
   ]
  },
  {
   "cell_type": "code",
   "execution_count": 23,
   "metadata": {},
   "outputs": [
    {
     "name": "stdout",
     "output_type": "stream",
     "text": [
      "Loss value with reg=0:      1.7463418137385358\n",
      "Loss value with reg=0.1:    1.9278772862920466\n",
      "[[ 0.16270383 -0.08689176  0.11321293]\n",
      " [ 0.14995458 -0.09537448  0.00860533]\n",
      " [-0.11142667 -0.00480054  0.23408009]\n",
      " [ 0.06304082 -0.07870707  0.14375889]\n",
      " [-0.24605099  0.14476026  0.26525538]]\n"
     ]
    }
   ],
   "source": [
    "(loss_value1,w_grad1)=svm_loss_navie(w_init,x,y,0)\n",
    "#reg means regularization \n",
    "print(\"Loss value with reg=0:     \",loss_value1)\n",
    "(loss_value2,w_grad2)=svm_loss_navie(w_init,x,y,0.1)\n",
    "print(\"Loss value with reg=0.1:   \",loss_value2)\n",
    "print(w_grad2)"
   ]
  },
  {
   "cell_type": "code",
   "execution_count": null,
   "metadata": {},
   "outputs": [],
   "source": []
  }
 ],
 "metadata": {
  "kernelspec": {
   "display_name": "Python 3",
   "language": "python",
   "name": "python3"
  },
  "language_info": {
   "codemirror_mode": {
    "name": "ipython",
    "version": 3
   },
   "file_extension": ".py",
   "mimetype": "text/x-python",
   "name": "python",
   "nbconvert_exporter": "python",
   "pygments_lexer": "ipython3",
   "version": "3.7.6"
  },
  "toc": {
   "base_numbering": 1,
   "nav_menu": {},
   "number_sections": true,
   "sideBar": true,
   "skip_h1_title": false,
   "title_cell": "Table of Contents",
   "title_sidebar": "Contents",
   "toc_cell": false,
   "toc_position": {},
   "toc_section_display": true,
   "toc_window_display": false
  }
 },
 "nbformat": 4,
 "nbformat_minor": 4
}
