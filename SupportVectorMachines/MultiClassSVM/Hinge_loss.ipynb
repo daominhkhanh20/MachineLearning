{
 "cells": [
  {
   "cell_type": "code",
   "execution_count": 11,
   "metadata": {},
   "outputs": [
    {
     "name": "stdout",
     "output_type": "stream",
     "text": [
      "[[0.33682171 0.98659708 0.39294313]\n",
      " [0.10595842 0.19948139 0.71331797]\n",
      " [0.69545595 0.23968925 0.99941378]\n",
      " [0.55818752 0.94307326 0.11809977]\n",
      " [0.10102934 0.41550317 0.72046178]]\n",
      "[[0.19562157 0.23103263 0.19862626 0.14678517 0.32661267 0.18436903\n",
      "  0.83675039 0.87259774 0.95224698 0.79181254]\n",
      " [0.62295383 0.43510817 0.22861279 0.59914632 0.49193539 0.05844861\n",
      "  0.91510933 0.24853965 0.31152189 0.39375734]\n",
      " [0.69059944 0.65524634 0.54016588 0.63284395 0.68391533 0.69083852\n",
      "  0.427438   0.2686338  0.98978967 0.44761596]\n",
      " [0.72085227 0.91364045 0.38485199 0.80810384 0.56111783 0.08974443\n",
      "  0.78464978 0.46065423 0.21694126 0.50764947]\n",
      " [0.89569828 0.49679212 0.270546   0.94296774 0.12057729 0.11304255\n",
      "  0.29346789 0.44237591 0.05179247 0.59711318]]\n",
      "[1 0 1 1 1 1 2 2 2 0]\n"
     ]
    }
   ],
   "source": [
    "import numpy as np\n",
    "\n",
    "# n: number data\n",
    "# c: number class\n",
    "# d: number dimenstion of each data\n",
    "\n",
    "n,c,d=10,3,5\n",
    "w_init=np.random.rand(d,c)\n",
    "x=np.random.rand(d,n)\n",
    "y=np.random.randint(0,c,n)\n",
    "print(w_init)\n",
    "print(x)\n",
    "print(y)"
   ]
  },
  {
   "cell_type": "code",
   "execution_count": 12,
   "metadata": {},
   "outputs": [],
   "source": [
    "#return loss value and grad\n",
    "def svm_loss_navie(w,x,y,lamda):\n",
    "    loss_value=0.0\n",
    "    d,c,n=w.shape[0],w.shape[1],x.shape[0]\n",
    "    grad_w=np.zeros_like(w)\n",
    "    \n",
    "    for i in range(n):\n",
    "        x_i=x[:,i]\n",
    "        score=x_i.dot(w)\n",
    "        \n",
    "        for j in range(c):\n",
    "            if j==y[i]:\n",
    "                continue\n",
    "            \n",
    "            magin=1-score[y[i]]+score[j]\n",
    "            if magin>0:\n",
    "                loss_value+=magin\n",
    "                grad_w[:,j]+=x_i\n",
    "                grad_w[:,y[i]]-=x_i\n",
    "                \n",
    "    \n",
    "    loss_value/=n\n",
    "    loss_value+=0.5*lamda*np.sum(w*w)\n",
    "    grad_w/=n\n",
    "    grad_w+=lamda*w\n",
    "    return loss_value,grad_w\n",
    "                          "
   ]
  },
  {
   "cell_type": "code",
   "execution_count": 13,
   "metadata": {},
   "outputs": [
    {
     "name": "stdout",
     "output_type": "stream",
     "text": [
      "Loss value with reg=0:      2.1201451082795835\n",
      "Time for excute svm without reg: 0.00538s\n",
      "Loss value with reg=0.1:    2.3830366257610947\n",
      "Time for excute svm with reg=0.1:  0.00640s\n"
     ]
    }
   ],
   "source": [
    "import time \n",
    "t1=time.time()\n",
    "(loss_value1,w_grad1)=svm_loss_navie(w_init,x,y,0)\n",
    "#reg means regularization \n",
    "print(\"Loss value with reg=0:     \",loss_value1)\n",
    "t2=time.time()\n",
    "print(\"Time for excute svm without reg: %0.5fs\"%(t2-t1))\n",
    "(loss_value2,w_grad2)=svm_loss_navie(w_init,x,y,0.1)\n",
    "print(\"Loss value with reg=0.1:   \",loss_value2)\n",
    "t3=time.time()\n",
    "print(\"Time for excute svm with reg=0.1:  %0.5fs\"%(t3-t2))\n",
    "#print(w_grad2)"
   ]
  },
  {
   "cell_type": "code",
   "execution_count": null,
   "metadata": {},
   "outputs": [],
   "source": []
  }
 ],
 "metadata": {
  "kernelspec": {
   "display_name": "Python 3",
   "language": "python",
   "name": "python3"
  },
  "language_info": {
   "codemirror_mode": {
    "name": "ipython",
    "version": 3
   },
   "file_extension": ".py",
   "mimetype": "text/x-python",
   "name": "python",
   "nbconvert_exporter": "python",
   "pygments_lexer": "ipython3",
   "version": "3.7.6"
  },
  "toc": {
   "base_numbering": 1,
   "nav_menu": {},
   "number_sections": true,
   "sideBar": true,
   "skip_h1_title": false,
   "title_cell": "Table of Contents",
   "title_sidebar": "Contents",
   "toc_cell": false,
   "toc_position": {},
   "toc_section_display": true,
   "toc_window_display": false
  }
 },
 "nbformat": 4,
 "nbformat_minor": 4
}
