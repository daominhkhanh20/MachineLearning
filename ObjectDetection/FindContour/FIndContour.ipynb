{
 "cells": [
  {
   "cell_type": "code",
   "execution_count": 1,
   "metadata": {},
   "outputs": [],
   "source": [
    "import cv2 \n",
    "import numpy as np\n",
    "from matplotlib import pyplot as plt"
   ]
  },
  {
   "cell_type": "code",
   "execution_count": 2,
   "metadata": {},
   "outputs": [],
   "source": [
    "image=cv2.imread('opencv1.png')\n",
    "image_gray=cv2.cvtColor(image,cv2.COLOR_BGR2GRAY)\n",
    "retval,threshold=cv2.threshold(image_gray,127,255,0)"
   ]
  },
  {
   "cell_type": "markdown",
   "metadata": {},
   "source": [
    "<font size=\"3\">\n",
    "<strong>Parameter in cv2.findContour() function:</strong> <br><br>\n",
    "* <strong>hierarchy</strong>: The contours in the image has some relationship to each other.And we can specific how one contour is connected to each other, like child, parent and so on <br><br>\n",
    "    * <strong>cv2.RETR_TREE</strong>: retrives all of the contour and reconstruct a full hierachy of nested constours <br><br>\n",
    "*<strong> cv2.CHAIN_APPROX_NONE</strong>: store all of the contour points <br>\n",
    "</font>"
   ]
  },
  {
   "cell_type": "code",
   "execution_count": 3,
   "metadata": {},
   "outputs": [
    {
     "name": "stdout",
     "output_type": "stream",
     "text": [
      "Number contours in image: 12\n"
     ]
    }
   ],
   "source": [
    "contours,hierarchy=cv2.findContours(threshold,cv2.RETR_TREE,cv2.CHAIN_APPROX_NONE)\n",
    "print(\"Number contours in image:\",len(contours))"
   ]
  },
  {
   "cell_type": "code",
   "execution_count": 4,
   "metadata": {},
   "outputs": [],
   "source": [
    "cv2.drawContours(image,contours,-1,(255,0,0),3)\n",
    "cv2.imshow('Contours',image)\n",
    "cv2.waitKey(0)\n",
    "cv2.destroyAllWindows()"
   ]
  },
  {
   "cell_type": "code",
   "execution_count": null,
   "metadata": {},
   "outputs": [],
   "source": []
  }
 ],
 "metadata": {
  "kernelspec": {
   "display_name": "Python 3",
   "language": "python",
   "name": "python3"
  },
  "language_info": {
   "codemirror_mode": {
    "name": "ipython",
    "version": 3
   },
   "file_extension": ".py",
   "mimetype": "text/x-python",
   "name": "python",
   "nbconvert_exporter": "python",
   "pygments_lexer": "ipython3",
   "version": "3.7.6"
  }
 },
 "nbformat": 4,
 "nbformat_minor": 4
}
