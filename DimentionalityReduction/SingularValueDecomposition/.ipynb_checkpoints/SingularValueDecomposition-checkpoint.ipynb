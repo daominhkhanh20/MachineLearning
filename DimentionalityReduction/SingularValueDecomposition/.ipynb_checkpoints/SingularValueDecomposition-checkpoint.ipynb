{
 "cells": [
  {
   "cell_type": "code",
   "execution_count": 2,
   "metadata": {
    "scrolled": true
   },
   "outputs": [],
   "source": [
    "import numpy as np\n",
    "from scipy.linalg import svd\n"
   ]
  },
  {
   "cell_type": "code",
   "execution_count": 3,
   "metadata": {},
   "outputs": [
    {
     "name": "stdout",
     "output_type": "stream",
     "text": [
      "[[1 2]\n",
      " [3 4]\n",
      " [5 6]]\n"
     ]
    }
   ],
   "source": [
    "a=np.array([[1,2],[3,4],[5,6]])\n",
    "print(a)"
   ]
  },
  {
   "cell_type": "markdown",
   "metadata": {},
   "source": [
    "# Singular Value Decomposition Theorem\n",
    "\n",
    "Let $A^{m \\times n}$ be a rectangular matrix of rank r $\\in$ [0,min(m,n)].The SVD of A is decomposition of the form:<br><br>\n",
    "<font size =\"5\">$$A^{m \\times n}=U_{m \\times n}\\Sigma_{m \\times n}V_{m \\times n}^T$$</font>\n",
    "<font size=\"3\">with an orthogonal matrix U $\\in \\mathbb{N} ^{m \\times n}$ with column vector $u_i$,i=1,...,m<br> and an orthogonal matrix V $ \\in \\mathbb{N}^{n \\times n}$ with column vector $v_j$, j=1,....,n.<br>\n",
    "Moreover, $\\Sigma$ is an $m \\times n$ matrix with $\\Sigma_{ii}=\\sigma_i \\geq 0$ and $\\Sigma_{ij}=0,i \\ne j$</font>"
   ]
  },
  {
   "cell_type": "code",
   "execution_count": 8,
   "metadata": {
    "scrolled": true
   },
   "outputs": [
    {
     "name": "stdout",
     "output_type": "stream",
     "text": [
      "[[-0.2298477   0.88346102  0.40824829]\n",
      " [-0.52474482  0.24078249 -0.81649658]\n",
      " [-0.81964194 -0.40189603  0.40824829]]\n",
      "[9.52551809 0.51430058]\n",
      "[[-0.61962948 -0.78489445]\n",
      " [-0.78489445  0.61962948]]\n",
      "3\n",
      "1\n"
     ]
    }
   ],
   "source": [
    "U,s,Vt=svd(a)\n",
    "print(U)\n",
    "print(s)\n",
    "print(Vt)\n",
    "m,n=U.shape[0],Vt.shape[0]\n",
    "print(np.linalg.matrix_rank(U))\n",
    "u1=U[:,1].reshape(3,1)\n",
    "v1T=Vt[:,1].reshape(1,2)\n",
    "print(np.linalg.matrix_rank(u1.dot(v1T)))\n"
   ]
  },
  {
   "cell_type": "markdown",
   "metadata": {},
   "source": [
    "# Check orthogonal matrix"
   ]
  },
  {
   "cell_type": "code",
   "execution_count": 4,
   "metadata": {
    "scrolled": false
   },
   "outputs": [
    {
     "name": "stdout",
     "output_type": "stream",
     "text": [
      "Euclidean norm of (UU^T-I) 4.519573300735633e-16\n",
      "Euclidean norm of (VV^T-I) 2.2293657306186983e-16\n"
     ]
    }
   ],
   "source": [
    "\n",
    "print(\"Euclidean norm of (UU^T-I)\",np.linalg.norm(U.dot(U.T)-np.eye(m)))\n",
    "print(\"Euclidean norm of (VV^T-I)\",np.linalg.norm(Vt.T.dot(Vt)-np.eye(n)))"
   ]
  },
  {
   "cell_type": "markdown",
   "metadata": {},
   "source": [
    "# A few property of the SVD\n",
    "## Compact SVD\n",
    "\n",
    "<font size =\"5\">$$A=\\sum_{i=1}^{i=r} \\sigma_i u_i v_i^T$$</font>\n",
    "<font size =\"3\">rank($u_i v_i^T)=1, 0 \\leq i \\leq r $(r is rank matrix A)</font>"
   ]
  },
  {
   "cell_type": "markdown",
   "metadata": {},
   "source": [
    "## Truncated SVD\n",
    "<font size =\"5\">$$ A \\approx A_k=\\sum_{i=1}^{i=k} \\sigma_i u_i v_i^T $$</font>\n",
    "\n",
    "<font size =\"4\">with k < r</font>"
   ]
  },
  {
   "cell_type": "markdown",
   "metadata": {},
   "source": [
    "## The approximating error for truncated SVD\n",
    "<font size =\"4\">The error due to the approximating an matrix A with rank r by Truncated SVD with $k<r$: </font>\n",
    "<font size =\"5\">$$\\lVert{A-A_k}\\rVert_F^2 =\\sum_{i=k+1}^r \\sigma_i^2$$</font>\n",
    "\n",
    "<img src =\"1.png\" width=\"800\" height=\"500\">"
   ]
  },
  {
   "cell_type": "code",
   "execution_count": null,
   "metadata": {},
   "outputs": [],
   "source": []
  }
 ],
 "metadata": {
  "kernelspec": {
   "display_name": "Python 3",
   "language": "python",
   "name": "python3"
  },
  "language_info": {
   "codemirror_mode": {
    "name": "ipython",
    "version": 3
   },
   "file_extension": ".py",
   "mimetype": "text/x-python",
   "name": "python",
   "nbconvert_exporter": "python",
   "pygments_lexer": "ipython3",
   "version": "3.7.6"
  },
  "toc": {
   "base_numbering": 1,
   "nav_menu": {},
   "number_sections": true,
   "sideBar": true,
   "skip_h1_title": false,
   "title_cell": "Table of Contents",
   "title_sidebar": "Contents",
   "toc_cell": false,
   "toc_position": {},
   "toc_section_display": true,
   "toc_window_display": false
  }
 },
 "nbformat": 4,
 "nbformat_minor": 4
}
