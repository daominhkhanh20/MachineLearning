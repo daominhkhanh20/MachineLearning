{
 "cells": [
  {
   "cell_type": "markdown",
   "metadata": {},
   "source": [
    "# Word Embedding\n",
    "\n",
    "- A word embedding is an approach to provide a dense vector representation of word that capture something about their meaning\n",
    "- Word embedding are an improvement over simple bag-of-word model word encoding schemes like word counts and frequencies that result in large and sparse vectors(mostly 0 values) that describe documents but not the meaning of words\n",
    "- Word embedding work by using an algorithms to train set of fixed-length dense and continuous-valued vectors based on a large corpus text. Each word is represented by a point in the embedding space and these points are learned and moved around based on the words that surround the target word\n",
    "- It is defining a word by the company that it keeps that allows the word embedding to learn something about the meaning of words. The vector space representation of words provide a projection where words with similar meaning are locally clustered within the space"
   ]
  },
  {
   "cell_type": "markdown",
   "metadata": {},
   "source": [
    "# Develop Word2Vec Embedding"
   ]
  },
  {
   "cell_type": "code",
   "execution_count": null,
   "metadata": {},
   "outputs": [],
   "source": []
  }
 ],
 "metadata": {
  "kernelspec": {
   "display_name": "Python 3",
   "language": "python",
   "name": "python3"
  },
  "language_info": {
   "codemirror_mode": {
    "name": "ipython",
    "version": 3
   },
   "file_extension": ".py",
   "mimetype": "text/x-python",
   "name": "python",
   "nbconvert_exporter": "python",
   "pygments_lexer": "ipython3",
   "version": "3.6.9"
  }
 },
 "nbformat": 4,
 "nbformat_minor": 4
}
