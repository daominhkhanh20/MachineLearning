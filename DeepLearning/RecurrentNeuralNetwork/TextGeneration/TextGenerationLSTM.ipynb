{
  "nbformat": 4,
  "nbformat_minor": 0,
  "metadata": {
    "colab": {
      "name": "TextGenerationLSTM.ipynb",
      "provenance": []
    },
    "kernelspec": {
      "name": "python3",
      "display_name": "Python 3"
    },
    "accelerator": "GPU"
  },
  "cells": [
    {
      "cell_type": "code",
      "metadata": {
        "id": "F7kXyhMLX3GM"
      },
      "source": [
        "import numpy as np\n",
        "from keras.models import Sequential \n",
        "from keras.layers import Dense,Dropout,LSTM\n",
        "from keras.callbacks import ModelCheckpoint\n",
        "from keras.utils import to_categorical"
      ],
      "execution_count": 177,
      "outputs": []
    },
    {
      "cell_type": "markdown",
      "metadata": {
        "id": "52WW2b-PZ2XR"
      },
      "source": [
        "# 1 Prepair data for mode"
      ]
    },
    {
      "cell_type": "markdown",
      "metadata": {
        "id": "r-OXT4wlY9aK"
      },
      "source": [
        "We need to load the ASCII text for the book into the memory and convert all of the characters to lowercase to reduce the vocabulary that network must learn"
      ]
    },
    {
      "cell_type": "code",
      "metadata": {
        "id": "GvncA1eoYpxA"
      },
      "source": [
        "filename=\"wonderland.txt\"\n",
        "raw_txt=open(filename,'r',encoding='utf-8').read()\n",
        "raw_txt=raw_txt.lower()"
      ],
      "execution_count": 178,
      "outputs": []
    },
    {
      "cell_type": "markdown",
      "metadata": {
        "id": "WPaSHqPXZ0ft"
      },
      "source": [
        "We can't model the character directly,instead we must convert the character to integers"
      ]
    },
    {
      "cell_type": "code",
      "metadata": {
        "colab": {
          "base_uri": "https://localhost:8080/"
        },
        "id": "5dLkquYiVy2x",
        "outputId": "9e4f6ac6-58f8-4140-eb76-f77210188a71"
      },
      "source": [
        "characters=list(set(raw_txt))\n",
        "print(characters)"
      ],
      "execution_count": 179,
      "outputs": [
        {
          "output_type": "stream",
          "text": [
            "['*', 'v', '.', 'e', 'w', 'c', 'x', '-', ' ', 'r', 'b', 'u', 'f', 's', 'h', ',', 't', 'p', 'm', '!', 'g', 'l', 'd', 'a', ':', ')', '(', '_', 'k', 'z', 'n', 'q', 'y', ';', '\\n', '\"', '[', 'o', 'j', 'i', '?', ']', \"'\"]\n"
          ],
          "name": "stdout"
        }
      ]
    },
    {
      "cell_type": "code",
      "metadata": {
        "id": "nAiYUsUQV2_F"
      },
      "source": [
        "characters=sorted(characters)"
      ],
      "execution_count": 180,
      "outputs": []
    },
    {
      "cell_type": "code",
      "metadata": {
        "id": "u_zIVIvNY3Lp"
      },
      "source": [
        "char_to_int={char:i for i,char in enumerate(characters)}"
      ],
      "execution_count": 181,
      "outputs": []
    },
    {
      "cell_type": "code",
      "metadata": {
        "colab": {
          "base_uri": "https://localhost:8080/"
        },
        "id": "XgKMSw42GrA6",
        "outputId": "7923271d-659a-4a82-fcbd-6fdbab241d46"
      },
      "source": [
        "print(char_to_int.keys())"
      ],
      "execution_count": 182,
      "outputs": [
        {
          "output_type": "stream",
          "text": [
            "dict_keys(['\\n', ' ', '!', '\"', \"'\", '(', ')', '*', ',', '-', '.', ':', ';', '?', '[', ']', '_', 'a', 'b', 'c', 'd', 'e', 'f', 'g', 'h', 'i', 'j', 'k', 'l', 'm', 'n', 'o', 'p', 'q', 'r', 's', 't', 'u', 'v', 'w', 'x', 'y', 'z'])\n"
          ],
          "name": "stdout"
        }
      ]
    },
    {
      "cell_type": "markdown",
      "metadata": {
        "id": "xz_LKGQAgnrk"
      },
      "source": [
        "You can see that there may be some characters that we could remove to futher clean up the dataset that will reduce the vocabulary and may improve the modeling process"
      ]
    },
    {
      "cell_type": "code",
      "metadata": {
        "colab": {
          "base_uri": "https://localhost:8080/"
        },
        "id": "iINXUF1zZhsa",
        "outputId": "099b6628-2bfa-43c7-f726-2e62d4bb3342"
      },
      "source": [
        "n_chars=len(raw_txt)\n",
        "n_vocabs=len(characters)\n",
        "print(\"Total charactes\",n_chars)\n",
        "print(\"Total vocab:\",n_vocabs)"
      ],
      "execution_count": 183,
      "outputs": [
        {
          "output_type": "stream",
          "text": [
            "Total charactes 144320\n",
            "Total vocab: 43\n"
          ],
          "name": "stdout"
        }
      ]
    },
    {
      "cell_type": "markdown",
      "metadata": {
        "id": "Mbv2j6rKmhk1"
      },
      "source": [
        "- We now need to define the traning data for the network. There is lot of flexibility in how to choose to break up the text and expose it to the network during the training<br>\n",
        "- In this tutorial, we will split the book text into subsequences with a fixed length of 100 characters, an arbitrary length. We could just as easly split data up by sentences and pad the shorter sequences and truncate the longer ones.\n",
        "- Each traing pattern of the network is comprised of 100 time steps of one chatacter(X) followed by one character output(Y). When creating these sentences, we slide the windown along the whole book one character at a time,allowing each character a chance to be learned from 100 characters that preceded it(except the first 100 character of course)"
      ]
    },
    {
      "cell_type": "code",
      "metadata": {
        "colab": {
          "base_uri": "https://localhost:8080/"
        },
        "id": "IMIK_hA4cECm",
        "outputId": "f4111384-71fb-46c1-bf7d-7eb45b7f6c08"
      },
      "source": [
        "seq_length=100\n",
        "dataX=[]\n",
        "dataY=[]\n",
        "for i in range(0,n_chars-seq_length,1):\n",
        "  seq_in=raw_txt[i:i+seq_length]\n",
        "  seq_out=raw_txt[i+seq_length]\n",
        "  dataX.append([char_to_int[s] for s in seq_in])\n",
        "  dataY.append(char_to_int[seq_out])\n",
        "n_inputs=len(dataX)\n",
        "print(\"Number input for Model:\",n_inputs)"
      ],
      "execution_count": 184,
      "outputs": [
        {
          "output_type": "stream",
          "text": [
            "Number input for Model: 144220\n"
          ],
          "name": "stdout"
        }
      ]
    },
    {
      "cell_type": "markdown",
      "metadata": {
        "id": "Yj8_Xi-D_1z_"
      },
      "source": [
        "- Now that we have prepaired our training data we need to transform it so that it suitable for use with keras<br>\n",
        "- First we need transofrm the list of input sequendes into the form(samples,time_steps,features) expected by an LSTM network\n"
      ]
    },
    {
      "cell_type": "code",
      "metadata": {
        "id": "XRMyZWqTpYzO"
      },
      "source": [
        "X=np.reshape(dataX,(n_inputs,seq_length,1))\n",
        "X=X/n_vocabs\n",
        "Y=to_categorical(dataY)"
      ],
      "execution_count": 185,
      "outputs": []
    },
    {
      "cell_type": "code",
      "metadata": {
        "colab": {
          "base_uri": "https://localhost:8080/"
        },
        "id": "l2Px5hYsHePt",
        "outputId": "2b604bec-7c95-4e33-85e0-c5bc8b0bb8cd"
      },
      "source": [
        "print(Y.shape)"
      ],
      "execution_count": 186,
      "outputs": [
        {
          "output_type": "stream",
          "text": [
            "(144220, 43)\n"
          ],
          "name": "stdout"
        }
      ]
    },
    {
      "cell_type": "markdown",
      "metadata": {
        "id": "E47zUmqepMX-"
      },
      "source": [
        "# 2 Build mode "
      ]
    },
    {
      "cell_type": "code",
      "metadata": {
        "id": "xXy0I5mngKae"
      },
      "source": [
        "epochs=100"
      ],
      "execution_count": 204,
      "outputs": []
    },
    {
      "cell_type": "code",
      "metadata": {
        "id": "c-UjTfYaAdx9"
      },
      "source": [
        "model=Sequential()\n",
        "model.add(LSTM(256,input_shape=(X.shape[1],X.shape[2]),return_sequences=True))\n",
        "model.add(Dropout(0.2))\n",
        "model.add(LSTM(256))\n",
        "model.add(Dropout(0.2))\n",
        "model.add(Dense(Y.shape[1],activation='softmax'))\n",
        "model.compile(loss='categorical_crossentropy',optimizer='adam',metrics=['accuracy'])"
      ],
      "execution_count": 207,
      "outputs": []
    },
    {
      "cell_type": "code",
      "metadata": {
        "id": "NLEbUXebo8yW"
      },
      "source": [
        "filepath=\"weight-improvement-100-{loss:.4f}.hdf5\"\n",
        "checkpoint=ModelCheckpoint(filepath,monitor='loss',verbose=1,save_best_only=True,mode='min')\n",
        "callbacks_list=[checkpoint]"
      ],
      "execution_count": 208,
      "outputs": []
    },
    {
      "cell_type": "code",
      "metadata": {
        "colab": {
          "base_uri": "https://localhost:8080/"
        },
        "id": "b4j-MHS-TGMo",
        "outputId": "6769e715-d35b-4bd2-9c4f-75e8dec5ffc6"
      },
      "source": [
        "!rm *.hdf5"
      ],
      "execution_count": 209,
      "outputs": [
        {
          "output_type": "stream",
          "text": [
            "rm: cannot remove '*.hdf5': No such file or directory\n"
          ],
          "name": "stdout"
        }
      ]
    },
    {
      "cell_type": "code",
      "metadata": {
        "colab": {
          "base_uri": "https://localhost:8080/"
        },
        "id": "_vCgU8t0f8Vw",
        "outputId": "ae22070b-bed2-4a26-e288-b3c7b5be315f"
      },
      "source": [
        "model.summary()"
      ],
      "execution_count": 210,
      "outputs": [
        {
          "output_type": "stream",
          "text": [
            "Model: \"sequential_14\"\n",
            "_________________________________________________________________\n",
            "Layer (type)                 Output Shape              Param #   \n",
            "=================================================================\n",
            "lstm_25 (LSTM)               (None, 100, 256)          264192    \n",
            "_________________________________________________________________\n",
            "dropout_24 (Dropout)         (None, 100, 256)          0         \n",
            "_________________________________________________________________\n",
            "lstm_26 (LSTM)               (None, 256)               525312    \n",
            "_________________________________________________________________\n",
            "dropout_25 (Dropout)         (None, 256)               0         \n",
            "_________________________________________________________________\n",
            "dense_12 (Dense)             (None, 43)                11051     \n",
            "=================================================================\n",
            "Total params: 800,555\n",
            "Trainable params: 800,555\n",
            "Non-trainable params: 0\n",
            "_________________________________________________________________\n"
          ],
          "name": "stdout"
        }
      ]
    },
    {
      "cell_type": "code",
      "metadata": {
        "colab": {
          "base_uri": "https://localhost:8080/"
        },
        "id": "5VXbEhXzIqtP",
        "outputId": "d8c530b3-5205-4dce-bfbd-3bfaca60b1b0"
      },
      "source": [
        "history=model.fit(X,Y,epochs=epochs,batch_size=256,callbacks=callbacks_list)"
      ],
      "execution_count": 211,
      "outputs": [
        {
          "output_type": "stream",
          "text": [
            "Epoch 1/100\n",
            "563/564 [============================>.] - ETA: 0s - loss: 2.9651 - accuracy: 0.1874\n",
            "Epoch 00001: loss improved from inf to 2.96485, saving model to weight-improvement-100-2.9648.hdf5\n",
            "564/564 [==============================] - 22s 39ms/step - loss: 2.9648 - accuracy: 0.1874\n",
            "Epoch 2/100\n",
            "563/564 [============================>.] - ETA: 0s - loss: 2.6638 - accuracy: 0.2555\n",
            "Epoch 00002: loss improved from 2.96485 to 2.66372, saving model to weight-improvement-100-2.6637.hdf5\n",
            "564/564 [==============================] - 22s 39ms/step - loss: 2.6637 - accuracy: 0.2555\n",
            "Epoch 3/100\n",
            "563/564 [============================>.] - ETA: 0s - loss: 2.4899 - accuracy: 0.2920\n",
            "Epoch 00003: loss improved from 2.66372 to 2.48970, saving model to weight-improvement-100-2.4897.hdf5\n",
            "564/564 [==============================] - 22s 40ms/step - loss: 2.4897 - accuracy: 0.2920\n",
            "Epoch 4/100\n",
            "563/564 [============================>.] - ETA: 0s - loss: 2.3414 - accuracy: 0.3292\n",
            "Epoch 00004: loss improved from 2.48970 to 2.34129, saving model to weight-improvement-100-2.3413.hdf5\n",
            "564/564 [==============================] - 22s 39ms/step - loss: 2.3413 - accuracy: 0.3292\n",
            "Epoch 5/100\n",
            "563/564 [============================>.] - ETA: 0s - loss: 2.2218 - accuracy: 0.3619\n",
            "Epoch 00005: loss improved from 2.34129 to 2.22181, saving model to weight-improvement-100-2.2218.hdf5\n",
            "564/564 [==============================] - 22s 39ms/step - loss: 2.2218 - accuracy: 0.3620\n",
            "Epoch 6/100\n",
            "563/564 [============================>.] - ETA: 0s - loss: 2.1329 - accuracy: 0.3838\n",
            "Epoch 00006: loss improved from 2.22181 to 2.13276, saving model to weight-improvement-100-2.1328.hdf5\n",
            "564/564 [==============================] - 22s 39ms/step - loss: 2.1328 - accuracy: 0.3839\n",
            "Epoch 7/100\n",
            "563/564 [============================>.] - ETA: 0s - loss: 2.0605 - accuracy: 0.4054\n",
            "Epoch 00007: loss improved from 2.13276 to 2.06032, saving model to weight-improvement-100-2.0603.hdf5\n",
            "564/564 [==============================] - 22s 39ms/step - loss: 2.0603 - accuracy: 0.4054\n",
            "Epoch 8/100\n",
            "563/564 [============================>.] - ETA: 0s - loss: 1.9955 - accuracy: 0.4216\n",
            "Epoch 00008: loss improved from 2.06032 to 1.99556, saving model to weight-improvement-100-1.9956.hdf5\n",
            "564/564 [==============================] - 22s 39ms/step - loss: 1.9956 - accuracy: 0.4216\n",
            "Epoch 9/100\n",
            "563/564 [============================>.] - ETA: 0s - loss: 1.9443 - accuracy: 0.4364\n",
            "Epoch 00009: loss improved from 1.99556 to 1.94434, saving model to weight-improvement-100-1.9443.hdf5\n",
            "564/564 [==============================] - 22s 39ms/step - loss: 1.9443 - accuracy: 0.4364\n",
            "Epoch 10/100\n",
            "563/564 [============================>.] - ETA: 0s - loss: 1.8933 - accuracy: 0.4517\n",
            "Epoch 00010: loss improved from 1.94434 to 1.89332, saving model to weight-improvement-100-1.8933.hdf5\n",
            "564/564 [==============================] - 22s 39ms/step - loss: 1.8933 - accuracy: 0.4517\n",
            "Epoch 11/100\n",
            "563/564 [============================>.] - ETA: 0s - loss: 1.8549 - accuracy: 0.4619\n",
            "Epoch 00011: loss improved from 1.89332 to 1.85477, saving model to weight-improvement-100-1.8548.hdf5\n",
            "564/564 [==============================] - 22s 39ms/step - loss: 1.8548 - accuracy: 0.4620\n",
            "Epoch 12/100\n",
            "563/564 [============================>.] - ETA: 0s - loss: 1.8141 - accuracy: 0.4710\n",
            "Epoch 00012: loss improved from 1.85477 to 1.81423, saving model to weight-improvement-100-1.8142.hdf5\n",
            "564/564 [==============================] - 22s 40ms/step - loss: 1.8142 - accuracy: 0.4710\n",
            "Epoch 13/100\n",
            "563/564 [============================>.] - ETA: 0s - loss: 1.7799 - accuracy: 0.4800\n",
            "Epoch 00013: loss improved from 1.81423 to 1.77994, saving model to weight-improvement-100-1.7799.hdf5\n",
            "564/564 [==============================] - 22s 40ms/step - loss: 1.7799 - accuracy: 0.4800\n",
            "Epoch 14/100\n",
            "564/564 [==============================] - ETA: 0s - loss: 1.7487 - accuracy: 0.4886\n",
            "Epoch 00014: loss improved from 1.77994 to 1.74867, saving model to weight-improvement-100-1.7487.hdf5\n",
            "564/564 [==============================] - 22s 39ms/step - loss: 1.7487 - accuracy: 0.4886\n",
            "Epoch 15/100\n",
            "563/564 [============================>.] - ETA: 0s - loss: 1.7230 - accuracy: 0.4957\n",
            "Epoch 00015: loss improved from 1.74867 to 1.72291, saving model to weight-improvement-100-1.7229.hdf5\n",
            "564/564 [==============================] - 22s 40ms/step - loss: 1.7229 - accuracy: 0.4957\n",
            "Epoch 16/100\n",
            "563/564 [============================>.] - ETA: 0s - loss: 1.6943 - accuracy: 0.5021\n",
            "Epoch 00016: loss improved from 1.72291 to 1.69428, saving model to weight-improvement-100-1.6943.hdf5\n",
            "564/564 [==============================] - 22s 40ms/step - loss: 1.6943 - accuracy: 0.5021\n",
            "Epoch 17/100\n",
            "563/564 [============================>.] - ETA: 0s - loss: 1.6701 - accuracy: 0.5082\n",
            "Epoch 00017: loss improved from 1.69428 to 1.67015, saving model to weight-improvement-100-1.6701.hdf5\n",
            "564/564 [==============================] - 22s 39ms/step - loss: 1.6701 - accuracy: 0.5082\n",
            "Epoch 18/100\n",
            "563/564 [============================>.] - ETA: 0s - loss: 1.6434 - accuracy: 0.5157\n",
            "Epoch 00018: loss improved from 1.67015 to 1.64342, saving model to weight-improvement-100-1.6434.hdf5\n",
            "564/564 [==============================] - 22s 39ms/step - loss: 1.6434 - accuracy: 0.5157\n",
            "Epoch 19/100\n",
            "563/564 [============================>.] - ETA: 0s - loss: 1.6207 - accuracy: 0.5218\n",
            "Epoch 00019: loss improved from 1.64342 to 1.62062, saving model to weight-improvement-100-1.6206.hdf5\n",
            "564/564 [==============================] - 22s 39ms/step - loss: 1.6206 - accuracy: 0.5218\n",
            "Epoch 20/100\n",
            "563/564 [============================>.] - ETA: 0s - loss: 1.5998 - accuracy: 0.5270\n",
            "Epoch 00020: loss improved from 1.62062 to 1.59993, saving model to weight-improvement-100-1.5999.hdf5\n",
            "564/564 [==============================] - 22s 39ms/step - loss: 1.5999 - accuracy: 0.5269\n",
            "Epoch 21/100\n",
            "563/564 [============================>.] - ETA: 0s - loss: 1.5771 - accuracy: 0.5326\n",
            "Epoch 00021: loss improved from 1.59993 to 1.57721, saving model to weight-improvement-100-1.5772.hdf5\n",
            "564/564 [==============================] - 22s 39ms/step - loss: 1.5772 - accuracy: 0.5326\n",
            "Epoch 22/100\n",
            "563/564 [============================>.] - ETA: 0s - loss: 1.5620 - accuracy: 0.5369\n",
            "Epoch 00022: loss improved from 1.57721 to 1.56183, saving model to weight-improvement-100-1.5618.hdf5\n",
            "564/564 [==============================] - 22s 40ms/step - loss: 1.5618 - accuracy: 0.5369\n",
            "Epoch 23/100\n",
            "563/564 [============================>.] - ETA: 0s - loss: 1.5458 - accuracy: 0.5413\n",
            "Epoch 00023: loss improved from 1.56183 to 1.54563, saving model to weight-improvement-100-1.5456.hdf5\n",
            "564/564 [==============================] - 22s 39ms/step - loss: 1.5456 - accuracy: 0.5413\n",
            "Epoch 24/100\n",
            "563/564 [============================>.] - ETA: 0s - loss: 1.5244 - accuracy: 0.5461\n",
            "Epoch 00024: loss improved from 1.54563 to 1.52436, saving model to weight-improvement-100-1.5244.hdf5\n",
            "564/564 [==============================] - 22s 39ms/step - loss: 1.5244 - accuracy: 0.5461\n",
            "Epoch 25/100\n",
            "563/564 [============================>.] - ETA: 0s - loss: 1.5066 - accuracy: 0.5511\n",
            "Epoch 00025: loss improved from 1.52436 to 1.50660, saving model to weight-improvement-100-1.5066.hdf5\n",
            "564/564 [==============================] - 22s 40ms/step - loss: 1.5066 - accuracy: 0.5511\n",
            "Epoch 26/100\n",
            "563/564 [============================>.] - ETA: 0s - loss: 1.4928 - accuracy: 0.5538\n",
            "Epoch 00026: loss improved from 1.50660 to 1.49262, saving model to weight-improvement-100-1.4926.hdf5\n",
            "564/564 [==============================] - 22s 40ms/step - loss: 1.4926 - accuracy: 0.5539\n",
            "Epoch 27/100\n",
            "563/564 [============================>.] - ETA: 0s - loss: 1.4740 - accuracy: 0.5583\n",
            "Epoch 00027: loss improved from 1.49262 to 1.47402, saving model to weight-improvement-100-1.4740.hdf5\n",
            "564/564 [==============================] - 22s 39ms/step - loss: 1.4740 - accuracy: 0.5583\n",
            "Epoch 28/100\n",
            "563/564 [============================>.] - ETA: 0s - loss: 1.4621 - accuracy: 0.5623\n",
            "Epoch 00028: loss improved from 1.47402 to 1.46217, saving model to weight-improvement-100-1.4622.hdf5\n",
            "564/564 [==============================] - 22s 39ms/step - loss: 1.4622 - accuracy: 0.5623\n",
            "Epoch 29/100\n",
            "564/564 [==============================] - ETA: 0s - loss: 1.4462 - accuracy: 0.5661\n",
            "Epoch 00029: loss improved from 1.46217 to 1.44623, saving model to weight-improvement-100-1.4462.hdf5\n",
            "564/564 [==============================] - 22s 39ms/step - loss: 1.4462 - accuracy: 0.5661\n",
            "Epoch 30/100\n",
            "564/564 [==============================] - ETA: 0s - loss: 1.4344 - accuracy: 0.5692\n",
            "Epoch 00030: loss improved from 1.44623 to 1.43439, saving model to weight-improvement-100-1.4344.hdf5\n",
            "564/564 [==============================] - 22s 39ms/step - loss: 1.4344 - accuracy: 0.5692\n",
            "Epoch 31/100\n",
            "563/564 [============================>.] - ETA: 0s - loss: 1.4138 - accuracy: 0.5751\n",
            "Epoch 00031: loss improved from 1.43439 to 1.41374, saving model to weight-improvement-100-1.4137.hdf5\n",
            "564/564 [==============================] - 22s 39ms/step - loss: 1.4137 - accuracy: 0.5751\n",
            "Epoch 32/100\n",
            "564/564 [==============================] - ETA: 0s - loss: 1.4029 - accuracy: 0.5771\n",
            "Epoch 00032: loss improved from 1.41374 to 1.40289, saving model to weight-improvement-100-1.4029.hdf5\n",
            "564/564 [==============================] - 22s 39ms/step - loss: 1.4029 - accuracy: 0.5771\n",
            "Epoch 33/100\n",
            "563/564 [============================>.] - ETA: 0s - loss: 1.3912 - accuracy: 0.5798\n",
            "Epoch 00033: loss improved from 1.40289 to 1.39121, saving model to weight-improvement-100-1.3912.hdf5\n",
            "564/564 [==============================] - 22s 39ms/step - loss: 1.3912 - accuracy: 0.5798\n",
            "Epoch 34/100\n",
            "563/564 [============================>.] - ETA: 0s - loss: 1.3795 - accuracy: 0.5841\n",
            "Epoch 00034: loss improved from 1.39121 to 1.37953, saving model to weight-improvement-100-1.3795.hdf5\n",
            "564/564 [==============================] - 22s 39ms/step - loss: 1.3795 - accuracy: 0.5841\n",
            "Epoch 35/100\n",
            "564/564 [==============================] - ETA: 0s - loss: 1.3681 - accuracy: 0.5848\n",
            "Epoch 00035: loss improved from 1.37953 to 1.36811, saving model to weight-improvement-100-1.3681.hdf5\n",
            "564/564 [==============================] - 22s 39ms/step - loss: 1.3681 - accuracy: 0.5848\n",
            "Epoch 36/100\n",
            "564/564 [==============================] - ETA: 0s - loss: 1.3604 - accuracy: 0.5878\n",
            "Epoch 00036: loss improved from 1.36811 to 1.36039, saving model to weight-improvement-100-1.3604.hdf5\n",
            "564/564 [==============================] - 22s 39ms/step - loss: 1.3604 - accuracy: 0.5878\n",
            "Epoch 37/100\n",
            "563/564 [============================>.] - ETA: 0s - loss: 1.3470 - accuracy: 0.5921\n",
            "Epoch 00037: loss improved from 1.36039 to 1.34705, saving model to weight-improvement-100-1.3471.hdf5\n",
            "564/564 [==============================] - 22s 39ms/step - loss: 1.3471 - accuracy: 0.5921\n",
            "Epoch 38/100\n",
            "563/564 [============================>.] - ETA: 0s - loss: 1.3323 - accuracy: 0.5953\n",
            "Epoch 00038: loss improved from 1.34705 to 1.33236, saving model to weight-improvement-100-1.3324.hdf5\n",
            "564/564 [==============================] - 22s 39ms/step - loss: 1.3324 - accuracy: 0.5953\n",
            "Epoch 39/100\n",
            "563/564 [============================>.] - ETA: 0s - loss: 1.3270 - accuracy: 0.5972\n",
            "Epoch 00039: loss improved from 1.33236 to 1.32701, saving model to weight-improvement-100-1.3270.hdf5\n",
            "564/564 [==============================] - 22s 39ms/step - loss: 1.3270 - accuracy: 0.5972\n",
            "Epoch 40/100\n",
            "563/564 [============================>.] - ETA: 0s - loss: 1.3118 - accuracy: 0.6009\n",
            "Epoch 00040: loss improved from 1.32701 to 1.31180, saving model to weight-improvement-100-1.3118.hdf5\n",
            "564/564 [==============================] - 22s 40ms/step - loss: 1.3118 - accuracy: 0.6008\n",
            "Epoch 41/100\n",
            "563/564 [============================>.] - ETA: 0s - loss: 1.3027 - accuracy: 0.6019\n",
            "Epoch 00041: loss improved from 1.31180 to 1.30275, saving model to weight-improvement-100-1.3027.hdf5\n",
            "564/564 [==============================] - 22s 39ms/step - loss: 1.3027 - accuracy: 0.6019\n",
            "Epoch 42/100\n",
            "564/564 [==============================] - ETA: 0s - loss: 1.2945 - accuracy: 0.6056\n",
            "Epoch 00042: loss improved from 1.30275 to 1.29451, saving model to weight-improvement-100-1.2945.hdf5\n",
            "564/564 [==============================] - 22s 39ms/step - loss: 1.2945 - accuracy: 0.6056\n",
            "Epoch 43/100\n",
            "563/564 [============================>.] - ETA: 0s - loss: 1.2879 - accuracy: 0.6065\n",
            "Epoch 00043: loss improved from 1.29451 to 1.28783, saving model to weight-improvement-100-1.2878.hdf5\n",
            "564/564 [==============================] - 22s 39ms/step - loss: 1.2878 - accuracy: 0.6065\n",
            "Epoch 44/100\n",
            "564/564 [==============================] - ETA: 0s - loss: 1.2776 - accuracy: 0.6097\n",
            "Epoch 00044: loss improved from 1.28783 to 1.27762, saving model to weight-improvement-100-1.2776.hdf5\n",
            "564/564 [==============================] - 22s 39ms/step - loss: 1.2776 - accuracy: 0.6097\n",
            "Epoch 45/100\n",
            "563/564 [============================>.] - ETA: 0s - loss: 1.2696 - accuracy: 0.6111\n",
            "Epoch 00045: loss improved from 1.27762 to 1.26973, saving model to weight-improvement-100-1.2697.hdf5\n",
            "564/564 [==============================] - 22s 39ms/step - loss: 1.2697 - accuracy: 0.6110\n",
            "Epoch 46/100\n",
            "563/564 [============================>.] - ETA: 0s - loss: 1.2624 - accuracy: 0.6137\n",
            "Epoch 00046: loss improved from 1.26973 to 1.26227, saving model to weight-improvement-100-1.2623.hdf5\n",
            "564/564 [==============================] - 22s 39ms/step - loss: 1.2623 - accuracy: 0.6137\n",
            "Epoch 47/100\n",
            "564/564 [==============================] - ETA: 0s - loss: 1.2506 - accuracy: 0.6168\n",
            "Epoch 00047: loss improved from 1.26227 to 1.25060, saving model to weight-improvement-100-1.2506.hdf5\n",
            "564/564 [==============================] - 22s 39ms/step - loss: 1.2506 - accuracy: 0.6168\n",
            "Epoch 48/100\n",
            "563/564 [============================>.] - ETA: 0s - loss: 1.2474 - accuracy: 0.6182\n",
            "Epoch 00048: loss improved from 1.25060 to 1.24718, saving model to weight-improvement-100-1.2472.hdf5\n",
            "564/564 [==============================] - 22s 39ms/step - loss: 1.2472 - accuracy: 0.6182\n",
            "Epoch 49/100\n",
            "563/564 [============================>.] - ETA: 0s - loss: 1.2411 - accuracy: 0.6180\n",
            "Epoch 00049: loss improved from 1.24718 to 1.24106, saving model to weight-improvement-100-1.2411.hdf5\n",
            "564/564 [==============================] - 22s 39ms/step - loss: 1.2411 - accuracy: 0.6180\n",
            "Epoch 50/100\n",
            "564/564 [==============================] - ETA: 0s - loss: 1.2289 - accuracy: 0.6222\n",
            "Epoch 00050: loss improved from 1.24106 to 1.22887, saving model to weight-improvement-100-1.2289.hdf5\n",
            "564/564 [==============================] - 22s 39ms/step - loss: 1.2289 - accuracy: 0.6222\n",
            "Epoch 51/100\n",
            "563/564 [============================>.] - ETA: 0s - loss: 1.2204 - accuracy: 0.6249\n",
            "Epoch 00051: loss improved from 1.22887 to 1.22036, saving model to weight-improvement-100-1.2204.hdf5\n",
            "564/564 [==============================] - 22s 39ms/step - loss: 1.2204 - accuracy: 0.6249\n",
            "Epoch 52/100\n",
            "564/564 [==============================] - ETA: 0s - loss: 1.2172 - accuracy: 0.6251\n",
            "Epoch 00052: loss improved from 1.22036 to 1.21716, saving model to weight-improvement-100-1.2172.hdf5\n",
            "564/564 [==============================] - 22s 39ms/step - loss: 1.2172 - accuracy: 0.6251\n",
            "Epoch 53/100\n",
            "564/564 [==============================] - ETA: 0s - loss: 1.2116 - accuracy: 0.6271\n",
            "Epoch 00053: loss improved from 1.21716 to 1.21157, saving model to weight-improvement-100-1.2116.hdf5\n",
            "564/564 [==============================] - 22s 39ms/step - loss: 1.2116 - accuracy: 0.6271\n",
            "Epoch 54/100\n",
            "563/564 [============================>.] - ETA: 0s - loss: 1.2035 - accuracy: 0.6287\n",
            "Epoch 00054: loss improved from 1.21157 to 1.20353, saving model to weight-improvement-100-1.2035.hdf5\n",
            "564/564 [==============================] - 22s 39ms/step - loss: 1.2035 - accuracy: 0.6287\n",
            "Epoch 55/100\n",
            "563/564 [============================>.] - ETA: 0s - loss: 1.2015 - accuracy: 0.6283\n",
            "Epoch 00055: loss improved from 1.20353 to 1.20161, saving model to weight-improvement-100-1.2016.hdf5\n",
            "564/564 [==============================] - 22s 39ms/step - loss: 1.2016 - accuracy: 0.6282\n",
            "Epoch 56/100\n",
            "563/564 [============================>.] - ETA: 0s - loss: 1.1841 - accuracy: 0.6336\n",
            "Epoch 00056: loss improved from 1.20161 to 1.18411, saving model to weight-improvement-100-1.1841.hdf5\n",
            "564/564 [==============================] - 22s 39ms/step - loss: 1.1841 - accuracy: 0.6336\n",
            "Epoch 57/100\n",
            "563/564 [============================>.] - ETA: 0s - loss: 1.1811 - accuracy: 0.6363\n",
            "Epoch 00057: loss improved from 1.18411 to 1.18123, saving model to weight-improvement-100-1.1812.hdf5\n",
            "564/564 [==============================] - 22s 39ms/step - loss: 1.1812 - accuracy: 0.6363\n",
            "Epoch 58/100\n",
            "563/564 [============================>.] - ETA: 0s - loss: 1.1743 - accuracy: 0.6354\n",
            "Epoch 00058: loss improved from 1.18123 to 1.17440, saving model to weight-improvement-100-1.1744.hdf5\n",
            "564/564 [==============================] - 22s 39ms/step - loss: 1.1744 - accuracy: 0.6354\n",
            "Epoch 59/100\n",
            "564/564 [==============================] - ETA: 0s - loss: 1.1651 - accuracy: 0.6392\n",
            "Epoch 00059: loss improved from 1.17440 to 1.16510, saving model to weight-improvement-100-1.1651.hdf5\n",
            "564/564 [==============================] - 22s 39ms/step - loss: 1.1651 - accuracy: 0.6392\n",
            "Epoch 60/100\n",
            "563/564 [============================>.] - ETA: 0s - loss: 1.1650 - accuracy: 0.6395\n",
            "Epoch 00060: loss improved from 1.16510 to 1.16505, saving model to weight-improvement-100-1.1651.hdf5\n",
            "564/564 [==============================] - 22s 39ms/step - loss: 1.1651 - accuracy: 0.6395\n",
            "Epoch 61/100\n",
            "563/564 [============================>.] - ETA: 0s - loss: 1.1628 - accuracy: 0.6390\n",
            "Epoch 00061: loss improved from 1.16505 to 1.16274, saving model to weight-improvement-100-1.1627.hdf5\n",
            "564/564 [==============================] - 22s 39ms/step - loss: 1.1627 - accuracy: 0.6390\n",
            "Epoch 62/100\n",
            "563/564 [============================>.] - ETA: 0s - loss: 1.1513 - accuracy: 0.6433\n",
            "Epoch 00062: loss improved from 1.16274 to 1.15137, saving model to weight-improvement-100-1.1514.hdf5\n",
            "564/564 [==============================] - 22s 40ms/step - loss: 1.1514 - accuracy: 0.6433\n",
            "Epoch 63/100\n",
            "564/564 [==============================] - ETA: 0s - loss: 1.1464 - accuracy: 0.6443\n",
            "Epoch 00063: loss improved from 1.15137 to 1.14645, saving model to weight-improvement-100-1.1464.hdf5\n",
            "564/564 [==============================] - 22s 39ms/step - loss: 1.1464 - accuracy: 0.6443\n",
            "Epoch 64/100\n",
            "563/564 [============================>.] - ETA: 0s - loss: 1.1446 - accuracy: 0.6436\n",
            "Epoch 00064: loss improved from 1.14645 to 1.14476, saving model to weight-improvement-100-1.1448.hdf5\n",
            "564/564 [==============================] - 22s 40ms/step - loss: 1.1448 - accuracy: 0.6435\n",
            "Epoch 65/100\n",
            "563/564 [============================>.] - ETA: 0s - loss: 1.1402 - accuracy: 0.6461\n",
            "Epoch 00065: loss improved from 1.14476 to 1.14041, saving model to weight-improvement-100-1.1404.hdf5\n",
            "564/564 [==============================] - 22s 39ms/step - loss: 1.1404 - accuracy: 0.6460\n",
            "Epoch 66/100\n",
            "563/564 [============================>.] - ETA: 0s - loss: 1.1297 - accuracy: 0.6480\n",
            "Epoch 00066: loss improved from 1.14041 to 1.12973, saving model to weight-improvement-100-1.1297.hdf5\n",
            "564/564 [==============================] - 22s 39ms/step - loss: 1.1297 - accuracy: 0.6480\n",
            "Epoch 67/100\n",
            "563/564 [============================>.] - ETA: 0s - loss: 1.1297 - accuracy: 0.6476\n",
            "Epoch 00067: loss did not improve from 1.12973\n",
            "564/564 [==============================] - 22s 39ms/step - loss: 1.1298 - accuracy: 0.6475\n",
            "Epoch 68/100\n",
            "563/564 [============================>.] - ETA: 0s - loss: 1.1256 - accuracy: 0.6494\n",
            "Epoch 00068: loss improved from 1.12973 to 1.12569, saving model to weight-improvement-100-1.1257.hdf5\n",
            "564/564 [==============================] - 22s 40ms/step - loss: 1.1257 - accuracy: 0.6494\n",
            "Epoch 69/100\n",
            "563/564 [============================>.] - ETA: 0s - loss: 1.1223 - accuracy: 0.6503\n",
            "Epoch 00069: loss improved from 1.12569 to 1.12235, saving model to weight-improvement-100-1.1223.hdf5\n",
            "564/564 [==============================] - 22s 40ms/step - loss: 1.1223 - accuracy: 0.6503\n",
            "Epoch 70/100\n",
            "564/564 [==============================] - ETA: 0s - loss: 1.1170 - accuracy: 0.6518\n",
            "Epoch 00070: loss improved from 1.12235 to 1.11701, saving model to weight-improvement-100-1.1170.hdf5\n",
            "564/564 [==============================] - 22s 40ms/step - loss: 1.1170 - accuracy: 0.6518\n",
            "Epoch 71/100\n",
            "564/564 [==============================] - ETA: 0s - loss: 1.1064 - accuracy: 0.6545\n",
            "Epoch 00071: loss improved from 1.11701 to 1.10639, saving model to weight-improvement-100-1.1064.hdf5\n",
            "564/564 [==============================] - 22s 40ms/step - loss: 1.1064 - accuracy: 0.6545\n",
            "Epoch 72/100\n",
            "564/564 [==============================] - ETA: 0s - loss: 1.1015 - accuracy: 0.6562\n",
            "Epoch 00072: loss improved from 1.10639 to 1.10151, saving model to weight-improvement-100-1.1015.hdf5\n",
            "564/564 [==============================] - 22s 40ms/step - loss: 1.1015 - accuracy: 0.6562\n",
            "Epoch 73/100\n",
            "563/564 [============================>.] - ETA: 0s - loss: 1.1012 - accuracy: 0.6561\n",
            "Epoch 00073: loss improved from 1.10151 to 1.10117, saving model to weight-improvement-100-1.1012.hdf5\n",
            "564/564 [==============================] - 22s 40ms/step - loss: 1.1012 - accuracy: 0.6561\n",
            "Epoch 74/100\n",
            "563/564 [============================>.] - ETA: 0s - loss: 1.0959 - accuracy: 0.6579\n",
            "Epoch 00074: loss improved from 1.10117 to 1.09579, saving model to weight-improvement-100-1.0958.hdf5\n",
            "564/564 [==============================] - 22s 40ms/step - loss: 1.0958 - accuracy: 0.6579\n",
            "Epoch 75/100\n",
            "563/564 [============================>.] - ETA: 0s - loss: 1.0912 - accuracy: 0.6586\n",
            "Epoch 00075: loss improved from 1.09579 to 1.09125, saving model to weight-improvement-100-1.0912.hdf5\n",
            "564/564 [==============================] - 22s 40ms/step - loss: 1.0912 - accuracy: 0.6586\n",
            "Epoch 76/100\n",
            "563/564 [============================>.] - ETA: 0s - loss: 1.0872 - accuracy: 0.6607\n",
            "Epoch 00076: loss improved from 1.09125 to 1.08705, saving model to weight-improvement-100-1.0870.hdf5\n",
            "564/564 [==============================] - 22s 40ms/step - loss: 1.0870 - accuracy: 0.6607\n",
            "Epoch 77/100\n",
            "563/564 [============================>.] - ETA: 0s - loss: 1.0848 - accuracy: 0.6615\n",
            "Epoch 00077: loss improved from 1.08705 to 1.08479, saving model to weight-improvement-100-1.0848.hdf5\n",
            "564/564 [==============================] - 22s 40ms/step - loss: 1.0848 - accuracy: 0.6615\n",
            "Epoch 78/100\n",
            "564/564 [==============================] - ETA: 0s - loss: 1.0796 - accuracy: 0.6622\n",
            "Epoch 00078: loss improved from 1.08479 to 1.07961, saving model to weight-improvement-100-1.0796.hdf5\n",
            "564/564 [==============================] - 22s 40ms/step - loss: 1.0796 - accuracy: 0.6622\n",
            "Epoch 79/100\n",
            "563/564 [============================>.] - ETA: 0s - loss: 1.0759 - accuracy: 0.6632\n",
            "Epoch 00079: loss improved from 1.07961 to 1.07602, saving model to weight-improvement-100-1.0760.hdf5\n",
            "564/564 [==============================] - 22s 40ms/step - loss: 1.0760 - accuracy: 0.6632\n",
            "Epoch 80/100\n",
            "564/564 [==============================] - ETA: 0s - loss: 1.0730 - accuracy: 0.6629\n",
            "Epoch 00080: loss improved from 1.07602 to 1.07296, saving model to weight-improvement-100-1.0730.hdf5\n",
            "564/564 [==============================] - 22s 40ms/step - loss: 1.0730 - accuracy: 0.6629\n",
            "Epoch 81/100\n",
            "563/564 [============================>.] - ETA: 0s - loss: 1.0683 - accuracy: 0.6650\n",
            "Epoch 00081: loss improved from 1.07296 to 1.06838, saving model to weight-improvement-100-1.0684.hdf5\n",
            "564/564 [==============================] - 22s 40ms/step - loss: 1.0684 - accuracy: 0.6650\n",
            "Epoch 82/100\n",
            "563/564 [============================>.] - ETA: 0s - loss: 1.0671 - accuracy: 0.6650\n",
            "Epoch 00082: loss improved from 1.06838 to 1.06698, saving model to weight-improvement-100-1.0670.hdf5\n",
            "564/564 [==============================] - 23s 40ms/step - loss: 1.0670 - accuracy: 0.6650\n",
            "Epoch 83/100\n",
            "564/564 [==============================] - ETA: 0s - loss: 1.0588 - accuracy: 0.6675\n",
            "Epoch 00083: loss improved from 1.06698 to 1.05884, saving model to weight-improvement-100-1.0588.hdf5\n",
            "564/564 [==============================] - 22s 40ms/step - loss: 1.0588 - accuracy: 0.6675\n",
            "Epoch 84/100\n",
            "564/564 [==============================] - ETA: 0s - loss: 1.0560 - accuracy: 0.6682\n",
            "Epoch 00084: loss improved from 1.05884 to 1.05602, saving model to weight-improvement-100-1.0560.hdf5\n",
            "564/564 [==============================] - 22s 40ms/step - loss: 1.0560 - accuracy: 0.6682\n",
            "Epoch 85/100\n",
            "563/564 [============================>.] - ETA: 0s - loss: 1.0503 - accuracy: 0.6699\n",
            "Epoch 00085: loss improved from 1.05602 to 1.05030, saving model to weight-improvement-100-1.0503.hdf5\n",
            "564/564 [==============================] - 22s 40ms/step - loss: 1.0503 - accuracy: 0.6699\n",
            "Epoch 86/100\n",
            "563/564 [============================>.] - ETA: 0s - loss: 1.0520 - accuracy: 0.6696\n",
            "Epoch 00086: loss did not improve from 1.05030\n",
            "564/564 [==============================] - 22s 40ms/step - loss: 1.0521 - accuracy: 0.6695\n",
            "Epoch 87/100\n",
            "564/564 [==============================] - ETA: 0s - loss: 1.0439 - accuracy: 0.6728\n",
            "Epoch 00087: loss improved from 1.05030 to 1.04389, saving model to weight-improvement-100-1.0439.hdf5\n",
            "564/564 [==============================] - 23s 40ms/step - loss: 1.0439 - accuracy: 0.6728\n",
            "Epoch 88/100\n",
            "563/564 [============================>.] - ETA: 0s - loss: 1.0442 - accuracy: 0.6709\n",
            "Epoch 00088: loss did not improve from 1.04389\n",
            "564/564 [==============================] - 23s 40ms/step - loss: 1.0440 - accuracy: 0.6710\n",
            "Epoch 89/100\n",
            "563/564 [============================>.] - ETA: 0s - loss: 1.0378 - accuracy: 0.6740\n",
            "Epoch 00089: loss improved from 1.04389 to 1.03788, saving model to weight-improvement-100-1.0379.hdf5\n",
            "564/564 [==============================] - 23s 40ms/step - loss: 1.0379 - accuracy: 0.6740\n",
            "Epoch 90/100\n",
            "563/564 [============================>.] - ETA: 0s - loss: 1.0341 - accuracy: 0.6745\n",
            "Epoch 00090: loss improved from 1.03788 to 1.03421, saving model to weight-improvement-100-1.0342.hdf5\n",
            "564/564 [==============================] - 23s 40ms/step - loss: 1.0342 - accuracy: 0.6745\n",
            "Epoch 91/100\n",
            "563/564 [============================>.] - ETA: 0s - loss: 1.0279 - accuracy: 0.6769\n",
            "Epoch 00091: loss improved from 1.03421 to 1.02774, saving model to weight-improvement-100-1.0277.hdf5\n",
            "564/564 [==============================] - 22s 40ms/step - loss: 1.0277 - accuracy: 0.6769\n",
            "Epoch 92/100\n",
            "564/564 [==============================] - ETA: 0s - loss: 1.0254 - accuracy: 0.6768\n",
            "Epoch 00092: loss improved from 1.02774 to 1.02542, saving model to weight-improvement-100-1.0254.hdf5\n",
            "564/564 [==============================] - 23s 40ms/step - loss: 1.0254 - accuracy: 0.6768\n",
            "Epoch 93/100\n",
            "563/564 [============================>.] - ETA: 0s - loss: 1.0222 - accuracy: 0.6775\n",
            "Epoch 00093: loss improved from 1.02542 to 1.02216, saving model to weight-improvement-100-1.0222.hdf5\n",
            "564/564 [==============================] - 22s 40ms/step - loss: 1.0222 - accuracy: 0.6775\n",
            "Epoch 94/100\n",
            "564/564 [==============================] - ETA: 0s - loss: 1.0191 - accuracy: 0.6794\n",
            "Epoch 00094: loss improved from 1.02216 to 1.01907, saving model to weight-improvement-100-1.0191.hdf5\n",
            "564/564 [==============================] - 22s 40ms/step - loss: 1.0191 - accuracy: 0.6794\n",
            "Epoch 95/100\n",
            "563/564 [============================>.] - ETA: 0s - loss: 1.0214 - accuracy: 0.6771\n",
            "Epoch 00095: loss did not improve from 1.01907\n",
            "564/564 [==============================] - 22s 40ms/step - loss: 1.0214 - accuracy: 0.6771\n",
            "Epoch 96/100\n",
            "564/564 [==============================] - ETA: 0s - loss: 1.0137 - accuracy: 0.6803\n",
            "Epoch 00096: loss improved from 1.01907 to 1.01370, saving model to weight-improvement-100-1.0137.hdf5\n",
            "564/564 [==============================] - 23s 40ms/step - loss: 1.0137 - accuracy: 0.6803\n",
            "Epoch 97/100\n",
            "563/564 [============================>.] - ETA: 0s - loss: 1.0128 - accuracy: 0.6798\n",
            "Epoch 00097: loss improved from 1.01370 to 1.01281, saving model to weight-improvement-100-1.0128.hdf5\n",
            "564/564 [==============================] - 23s 40ms/step - loss: 1.0128 - accuracy: 0.6798\n",
            "Epoch 98/100\n",
            "563/564 [============================>.] - ETA: 0s - loss: 1.0109 - accuracy: 0.6801\n",
            "Epoch 00098: loss improved from 1.01281 to 1.01097, saving model to weight-improvement-100-1.0110.hdf5\n",
            "564/564 [==============================] - 22s 40ms/step - loss: 1.0110 - accuracy: 0.6801\n",
            "Epoch 99/100\n",
            "564/564 [==============================] - ETA: 0s - loss: 1.0046 - accuracy: 0.6825\n",
            "Epoch 00099: loss improved from 1.01097 to 1.00460, saving model to weight-improvement-100-1.0046.hdf5\n",
            "564/564 [==============================] - 23s 40ms/step - loss: 1.0046 - accuracy: 0.6825\n",
            "Epoch 100/100\n",
            "563/564 [============================>.] - ETA: 0s - loss: 1.0038 - accuracy: 0.6833\n",
            "Epoch 00100: loss improved from 1.00460 to 1.00380, saving model to weight-improvement-100-1.0038.hdf5\n",
            "564/564 [==============================] - 22s 40ms/step - loss: 1.0038 - accuracy: 0.6833\n"
          ],
          "name": "stdout"
        }
      ]
    },
    {
      "cell_type": "code",
      "metadata": {
        "colab": {
          "base_uri": "https://localhost:8080/",
          "height": 573
        },
        "id": "VwkHrx9xT9L1",
        "outputId": "39ebb356-2e2a-4dce-ebff-261093a224c1"
      },
      "source": [
        "from matplotlib import pyplot as plt\n",
        "x_value=np.arange(epochs)\n",
        "labels=['accuracy','loss']\n",
        "for i in range(2):\n",
        "  plt.plot(x_value,history.history[labels[i]])\n",
        "  plt.xlabel('Epochs')\n",
        "  plt.ylabel('Value')\n",
        "  plt.title(labels[i])\n",
        "  plt.show()"
      ],
      "execution_count": 212,
      "outputs": [
        {
          "output_type": "display_data",
          "data": {
            "image/png": "[encoded data removed]",
            "text/plain": [
              "<Figure size 432x288 with 1 Axes>"
            ]
          },
          "metadata": {
            "tags": [],
            "needs_background": "light"
          }
        },
        {
          "output_type": "display_data",
          "data": {
            "image/png": "[encoded data removed]",
            "text/plain": [
              "<Figure size 432x288 with 1 Axes>"
            ]
          },
          "metadata": {
            "tags": [],
            "needs_background": "light"
          }
        }
      ]
    },
    {
      "cell_type": "code",
      "metadata": {
        "id": "vpRZndcWIyiv"
      },
      "source": [
        "file_weight='weight-improvement-100-1.0038.hdf5'\n",
        "model.load_weights(file_weight)\n",
        "model.compile(loss='categorical_crossentropy',optimizer='adam')"
      ],
      "execution_count": 213,
      "outputs": []
    },
    {
      "cell_type": "code",
      "metadata": {
        "colab": {
          "base_uri": "https://localhost:8080/"
        },
        "id": "fyy4LgT1KM5Y",
        "outputId": "37d99c09-779b-4081-89d8-7cea2f7cc82d"
      },
      "source": [
        "start=np.random.randint(0,len(dataX)-1)\n",
        "print(start)"
      ],
      "execution_count": 214,
      "outputs": [
        {
          "output_type": "stream",
          "text": [
            "115095\n"
          ],
          "name": "stdout"
        }
      ]
    },
    {
      "cell_type": "code",
      "metadata": {
        "id": "871vJYu8KmCz"
      },
      "source": [
        "int_to_char={i:char for i,char in enumerate(characters)}\n",
        "pattern=dataX[start]"
      ],
      "execution_count": 215,
      "outputs": []
    },
    {
      "cell_type": "code",
      "metadata": {
        "colab": {
          "base_uri": "https://localhost:8080/"
        },
        "id": "_l_w_pYlK4Gl",
        "outputId": "64186e2f-f639-46b5-f70a-a59180a3627d"
      },
      "source": [
        "temp=''.join(int_to_char[value] for value in pattern)\n",
        "print(temp)"
      ],
      "execution_count": 220,
      "outputs": [
        {
          "output_type": "stream",
          "text": [
            "he shone cars and she way in that sable. \n",
            "'i don't know what you may not have aeein with mise!' said\n"
          ],
          "name": "stdout"
        }
      ]
    },
    {
      "cell_type": "code",
      "metadata": {
        "colab": {
          "base_uri": "https://localhost:8080/"
        },
        "id": "hR4GPfsNLSde",
        "outputId": "885c3bc3-1af3-41df-af84-14e7d9758220"
      },
      "source": [
        "import sys\n",
        "sys.stdout.write(temp)\n",
        "for i in range(1000):\n",
        "  x=np.reshape(pattern,(1,len(pattern),1))\n",
        "  x=x/float(n_vocabs)\n",
        "  prediction=model.predict(x,verbose=0)\n",
        "  index=np.argmax(prediction)\n",
        "  character=int_to_char[index]\n",
        "  sys.stdout.write(character)\n",
        "  pattern.append(index)\n",
        "  pattern=pattern[1:len(pattern)]"
      ],
      "execution_count": 221,
      "outputs": [
        {
          "output_type": "stream",
          "text": [
            "he shone cars and she way in that sable. \n",
            "'i don't know what you may not have aeein with mise!' said the daterpillar.\n",
            "\n",
            "'i don't kike the thable were that i've been po a dande is ' said the mock turtle. ''she dar't got be to pakence the sea-' she said to herself, 'i wesh the boors with the little door, but she could not seemed to be no coubt to hear it was on touithbtier, and the thal crundir she was to tee it all too craape,\n",
            "\n",
            "'well, i sean't help to sime,  said the caterpillar.\n",
            "\n",
            "'i don't know what you may not it,' said the mock turtle. ''she dar't gall to the bastt to make mut the remerkented thene was a doow,' said the mock turtle, 'ne course you know what to be a little bit!'\n",
            "\n",
            "'i don't kike the than thlesce,' said the caterpillar.\n",
            "\n",
            "'i don't kike that dormouse ' said alice, 'i'm afraid i mnow you wouldn't say it to tell me bothoe! i wonder what to be a little bit! i shall be saleari it wiile you meven teem the lors ascym' i think i can tery minely seally marged.'\n",
            "\n",
            "'i haven't the shing create, who had a very lote, as it is the louser--                                                 "
          ],
          "name": "stdout"
        }
      ]
    },
    {
      "cell_type": "code",
      "metadata": {
        "id": "tBViCBw3fOkq"
      },
      "source": [
        ""
      ],
      "execution_count": null,
      "outputs": []
    }
  ]
}